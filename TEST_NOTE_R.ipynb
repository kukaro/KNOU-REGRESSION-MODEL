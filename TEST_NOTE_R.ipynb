{
 "cells": [
  {
   "cell_type": "code",
   "execution_count": 1,
   "id": "b1b8a4a4",
   "metadata": {},
   "outputs": [
    {
     "data": {
      "text/html": [
       "<style>\n",
       ".list-inline {list-style: none; margin:0; padding: 0}\n",
       ".list-inline>li {display: inline-block}\n",
       ".list-inline>li:not(:last-child)::after {content: \"\\00b7\"; padding: 0 .5ex}\n",
       "</style>\n",
       "<ol class=list-inline><li>5</li><li>23</li><li>20</li><li>1</li><li>10</li><li>15</li><li>15</li><li>10</li><li>9</li><li>13</li><li>18</li><li>11</li><li>18</li><li>20</li><li>19</li><li>19</li></ol>\n"
      ],
      "text/latex": [
       "\\begin{enumerate*}\n",
       "\\item 5\n",
       "\\item 23\n",
       "\\item 20\n",
       "\\item 1\n",
       "\\item 10\n",
       "\\item 15\n",
       "\\item 15\n",
       "\\item 10\n",
       "\\item 9\n",
       "\\item 13\n",
       "\\item 18\n",
       "\\item 11\n",
       "\\item 18\n",
       "\\item 20\n",
       "\\item 19\n",
       "\\item 19\n",
       "\\end{enumerate*}\n"
      ],
      "text/markdown": [
       "1. 5\n",
       "2. 23\n",
       "3. 20\n",
       "4. 1\n",
       "5. 10\n",
       "6. 15\n",
       "7. 15\n",
       "8. 10\n",
       "9. 9\n",
       "10. 13\n",
       "11. 18\n",
       "12. 11\n",
       "13. 18\n",
       "14. 20\n",
       "15. 19\n",
       "16. 19\n",
       "\n",
       "\n"
      ],
      "text/plain": [
       " [1]  5 23 20  1 10 15 15 10  9 13 18 11 18 20 19 19"
      ]
     },
     "metadata": {},
     "output_type": "display_data"
    }
   ],
   "source": [
    "x <- c(5, 23, 20, 1, 10, 15, 15, 10, 9, 13, 18, 11, 18, 20, 19, 19)\n",
    "x"
   ]
  },
  {
   "cell_type": "code",
   "execution_count": 2,
   "id": "16778cbb",
   "metadata": {},
   "outputs": [
    {
     "data": {
      "text/html": [
       "16"
      ],
      "text/latex": [
       "16"
      ],
      "text/markdown": [
       "16"
      ],
      "text/plain": [
       "[1] 16"
      ]
     },
     "metadata": {},
     "output_type": "display_data"
    }
   ],
   "source": [
    "length(x)"
   ]
  },
  {
   "cell_type": "code",
   "execution_count": 9,
   "id": "9190ef57",
   "metadata": {},
   "outputs": [
    {
     "data": {
      "text/html": [
       "14.125"
      ],
      "text/latex": [
       "14.125"
      ],
      "text/markdown": [
       "14.125"
      ],
      "text/plain": [
       "[1] 14.125"
      ]
     },
     "metadata": {},
     "output_type": "display_data"
    }
   ],
   "source": [
    "x.bar <- mean(x)\n",
    "x.bar"
   ]
  },
  {
   "cell_type": "code",
   "execution_count": 17,
   "id": "94d8d027",
   "metadata": {},
   "outputs": [
    {
     "data": {
      "text/html": [
       "6.07590871118606"
      ],
      "text/latex": [
       "6.07590871118606"
      ],
      "text/markdown": [
       "6.07590871118606"
      ],
      "text/plain": [
       "[1] 6.075909"
      ]
     },
     "metadata": {},
     "output_type": "display_data"
    }
   ],
   "source": [
    "s.squre <- sum((x-x.bar)**2)/(length(x)-1)\n",
    "s <- sqrt(s.squre)\n",
    "s"
   ]
  },
  {
   "cell_type": "code",
   "execution_count": null,
   "id": "c789d993",
   "metadata": {},
   "outputs": [],
   "source": []
  }
 ],
 "metadata": {
  "kernelspec": {
   "display_name": "R",
   "language": "R",
   "name": "ir"
  },
  "language_info": {
   "codemirror_mode": "r",
   "file_extension": ".r",
   "mimetype": "text/x-r-source",
   "name": "R",
   "pygments_lexer": "r",
   "version": "4.0.3"
  }
 },
 "nbformat": 4,
 "nbformat_minor": 5
}
