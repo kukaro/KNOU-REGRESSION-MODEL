{
 "cells": [
  {
   "cell_type": "code",
   "execution_count": 1,
   "id": "ce4c8119",
   "metadata": {},
   "outputs": [
    {
     "data": {
      "text/html": [
       "<table class=\"dataframe\">\n",
       "<caption>A data.frame: 12 × 5</caption>\n",
       "<thead>\n",
       "\t<tr><th scope=col>age</th><th scope=col>region</th><th scope=col>cases</th><th scope=col>total</th><th scope=col>ltotal</th></tr>\n",
       "\t<tr><th scope=col>&lt;chr&gt;</th><th scope=col>&lt;chr&gt;</th><th scope=col>&lt;int&gt;</th><th scope=col>&lt;int&gt;</th><th scope=col>&lt;dbl&gt;</th></tr>\n",
       "</thead>\n",
       "<tbody>\n",
       "\t<tr><td>35-44</td><td>south</td><td> 75</td><td> 220407</td><td>12.30323</td></tr>\n",
       "\t<tr><td>45-54</td><td>south</td><td> 68</td><td> 198119</td><td>12.19662</td></tr>\n",
       "\t<tr><td>55-64</td><td>south</td><td> 63</td><td> 134084</td><td>11.80622</td></tr>\n",
       "\t<tr><td>65-74</td><td>south</td><td> 45</td><td>  70708</td><td>11.16631</td></tr>\n",
       "\t<tr><td>75+  </td><td>south</td><td> 27</td><td>  34233</td><td>10.44095</td></tr>\n",
       "\t<tr><td><span style=white-space:pre-wrap>&lt;35  </span></td><td>south</td><td> 64</td><td>1074246</td><td>13.88713</td></tr>\n",
       "\t<tr><td>35-44</td><td>north</td><td> 76</td><td> 564535</td><td>13.24376</td></tr>\n",
       "\t<tr><td>45-54</td><td>north</td><td> 98</td><td> 592983</td><td>13.29292</td></tr>\n",
       "\t<tr><td>55-64</td><td>north</td><td>104</td><td> 450740</td><td>13.01865</td></tr>\n",
       "\t<tr><td>65-74</td><td>north</td><td> 63</td><td> 270908</td><td>12.50953</td></tr>\n",
       "\t<tr><td>75+  </td><td>north</td><td> 80</td><td> 161850</td><td>11.99443</td></tr>\n",
       "\t<tr><td><span style=white-space:pre-wrap>&lt;35  </span></td><td>north</td><td> 61</td><td>2880262</td><td>14.87339</td></tr>\n",
       "</tbody>\n",
       "</table>\n"
      ],
      "text/latex": [
       "A data.frame: 12 × 5\n",
       "\\begin{tabular}{lllll}\n",
       " age & region & cases & total & ltotal\\\\\n",
       " <chr> & <chr> & <int> & <int> & <dbl>\\\\\n",
       "\\hline\n",
       "\t 35-44 & south &  75 &  220407 & 12.30323\\\\\n",
       "\t 45-54 & south &  68 &  198119 & 12.19662\\\\\n",
       "\t 55-64 & south &  63 &  134084 & 11.80622\\\\\n",
       "\t 65-74 & south &  45 &   70708 & 11.16631\\\\\n",
       "\t 75+   & south &  27 &   34233 & 10.44095\\\\\n",
       "\t <35   & south &  64 & 1074246 & 13.88713\\\\\n",
       "\t 35-44 & north &  76 &  564535 & 13.24376\\\\\n",
       "\t 45-54 & north &  98 &  592983 & 13.29292\\\\\n",
       "\t 55-64 & north & 104 &  450740 & 13.01865\\\\\n",
       "\t 65-74 & north &  63 &  270908 & 12.50953\\\\\n",
       "\t 75+   & north &  80 &  161850 & 11.99443\\\\\n",
       "\t <35   & north &  61 & 2880262 & 14.87339\\\\\n",
       "\\end{tabular}\n"
      ],
      "text/markdown": [
       "\n",
       "A data.frame: 12 × 5\n",
       "\n",
       "| age &lt;chr&gt; | region &lt;chr&gt; | cases &lt;int&gt; | total &lt;int&gt; | ltotal &lt;dbl&gt; |\n",
       "|---|---|---|---|---|\n",
       "| 35-44 | south |  75 |  220407 | 12.30323 |\n",
       "| 45-54 | south |  68 |  198119 | 12.19662 |\n",
       "| 55-64 | south |  63 |  134084 | 11.80622 |\n",
       "| 65-74 | south |  45 |   70708 | 11.16631 |\n",
       "| 75+   | south |  27 |   34233 | 10.44095 |\n",
       "| &lt;35   | south |  64 | 1074246 | 13.88713 |\n",
       "| 35-44 | north |  76 |  564535 | 13.24376 |\n",
       "| 45-54 | north |  98 |  592983 | 13.29292 |\n",
       "| 55-64 | north | 104 |  450740 | 13.01865 |\n",
       "| 65-74 | north |  63 |  270908 | 12.50953 |\n",
       "| 75+   | north |  80 |  161850 | 11.99443 |\n",
       "| &lt;35   | north |  61 | 2880262 | 14.87339 |\n",
       "\n"
      ],
      "text/plain": [
       "   age   region cases total   ltotal  \n",
       "1  35-44 south   75    220407 12.30323\n",
       "2  45-54 south   68    198119 12.19662\n",
       "3  55-64 south   63    134084 11.80622\n",
       "4  65-74 south   45     70708 11.16631\n",
       "5  75+   south   27     34233 10.44095\n",
       "6  <35   south   64   1074246 13.88713\n",
       "7  35-44 north   76    564535 13.24376\n",
       "8  45-54 north   98    592983 13.29292\n",
       "9  55-64 north  104    450740 13.01865\n",
       "10 65-74 north   63    270908 12.50953\n",
       "11 75+   north   80    161850 11.99443\n",
       "12 <35   north   61   2880262 14.87339"
      ]
     },
     "metadata": {},
     "output_type": "display_data"
    }
   ],
   "source": [
    "melanoma <- read.csv('../reg2020/melanoma.csv')\n",
    "melanoma"
   ]
  },
  {
   "cell_type": "code",
   "execution_count": 2,
   "id": "8a8a2b4e",
   "metadata": {},
   "outputs": [
    {
     "data": {
      "text/plain": [
       "\n",
       "Call:  glm(formula = cases ~ age + region - offset(log(total)), family = poisson(link = log), \n",
       "    data = melanoma)\n",
       "\n",
       "Coefficients:\n",
       "(Intercept)     age45-54     age55-64     age65-74       age75+       age<35  \n",
       "    -8.8609       0.1157       0.4444       0.5683       1.1473      -1.7974  \n",
       "regionsouth  \n",
       "     0.8195  \n",
       "\n",
       "Degrees of Freedom: 11 Total (i.e. Null);  5 Residual\n",
       "Null Deviance:\t    895.8 \n",
       "Residual Deviance: 6.215 \tAIC: 92.44"
      ]
     },
     "metadata": {},
     "output_type": "display_data"
    }
   ],
   "source": [
    "#offset은 상쇄항\n",
    "log.rt <- glm(cases~age+region-offset(log(total)),family=poisson(link=log),data=melanoma)\n",
    "log.rt"
   ]
  },
  {
   "cell_type": "code",
   "execution_count": 4,
   "id": "5c410b1a",
   "metadata": {},
   "outputs": [
    {
     "data": {
      "text/plain": [
       "\n",
       "Call:\n",
       "glm(formula = cases ~ age + region - offset(log(total)), family = poisson(link = log), \n",
       "    data = melanoma)\n",
       "\n",
       "Deviance Residuals: \n",
       "      1        2        3        4        5        6        7        8  \n",
       " 0.4780  -0.4273  -0.5302   0.7469  -1.3610   0.8686  -0.4581   0.3667  \n",
       "      9       10       11       12  \n",
       " 0.4279  -0.5932   0.8904  -0.8283  \n",
       "\n",
       "Coefficients:\n",
       "            Estimate Std. Error  z value Pr(>|z|)    \n",
       "(Intercept) -8.86093    0.08795 -100.745  < 2e-16 ***\n",
       "age45-54     0.11571    0.11249    1.029    0.304    \n",
       "age55-64     0.44443    0.11240    3.954 7.68e-05 ***\n",
       "age65-74     0.56835    0.12621    4.503 6.70e-06 ***\n",
       "age75+       1.14730    0.12679    9.049  < 2e-16 ***\n",
       "age<35      -1.79737    0.12093  -14.863  < 2e-16 ***\n",
       "regionsouth  0.81948    0.07103   11.537  < 2e-16 ***\n",
       "---\n",
       "Signif. codes:  0 ‘***’ 0.001 ‘**’ 0.01 ‘*’ 0.05 ‘.’ 0.1 ‘ ’ 1\n",
       "\n",
       "(Dispersion parameter for poisson family taken to be 1)\n",
       "\n",
       "    Null deviance: 895.8197  on 11  degrees of freedom\n",
       "Residual deviance:   6.2149  on  5  degrees of freedom\n",
       "AIC: 92.44\n",
       "\n",
       "Number of Fisher Scoring iterations: 4\n"
      ]
     },
     "metadata": {},
     "output_type": "display_data"
    }
   ],
   "source": [
    "log.rt.summary <- summary(log.rt)\n",
    "log.rt.summary"
   ]
  },
  {
   "cell_type": "code",
   "execution_count": 5,
   "id": "dd9b1aae",
   "metadata": {},
   "outputs": [
    {
     "data": {
      "text/html": [
       "<table class=\"dataframe\">\n",
       "<caption>A matrix: 7 × 4 of type dbl</caption>\n",
       "<thead>\n",
       "\t<tr><th></th><th scope=col>Estimate</th><th scope=col>Std. Error</th><th scope=col>z value</th><th scope=col>Pr(&gt;|z|)</th></tr>\n",
       "</thead>\n",
       "<tbody>\n",
       "\t<tr><th scope=row>(Intercept)</th><td>-8.8609343</td><td>0.08795391</td><td>-100.745204</td><td>0.000000e+00</td></tr>\n",
       "\t<tr><th scope=row>age45-54</th><td> 0.1157128</td><td>0.11249047</td><td>   1.028645</td><td>3.036465e-01</td></tr>\n",
       "\t<tr><th scope=row>age55-64</th><td> 0.4444275</td><td>0.11239675</td><td>   3.954096</td><td>7.682470e-05</td></tr>\n",
       "\t<tr><th scope=row>age65-74</th><td> 0.5683492</td><td>0.12621421</td><td>   4.503052</td><td>6.698436e-06</td></tr>\n",
       "\t<tr><th scope=row>age75+</th><td> 1.1473043</td><td>0.12678743</td><td>   9.049038</td><td>1.442334e-19</td></tr>\n",
       "\t<tr><th scope=row>age&lt;35</th><td>-1.7973750</td><td>0.12092630</td><td> -14.863392</td><td>5.696626e-50</td></tr>\n",
       "\t<tr><th scope=row>regionsouth</th><td> 0.8194846</td><td>0.07102793</td><td>  11.537497</td><td>8.537307e-31</td></tr>\n",
       "</tbody>\n",
       "</table>\n"
      ],
      "text/latex": [
       "A matrix: 7 × 4 of type dbl\n",
       "\\begin{tabular}{r|llll}\n",
       "  & Estimate & Std. Error & z value & Pr(>\\textbar{}z\\textbar{})\\\\\n",
       "\\hline\n",
       "\t(Intercept) & -8.8609343 & 0.08795391 & -100.745204 & 0.000000e+00\\\\\n",
       "\tage45-54 &  0.1157128 & 0.11249047 &    1.028645 & 3.036465e-01\\\\\n",
       "\tage55-64 &  0.4444275 & 0.11239675 &    3.954096 & 7.682470e-05\\\\\n",
       "\tage65-74 &  0.5683492 & 0.12621421 &    4.503052 & 6.698436e-06\\\\\n",
       "\tage75+ &  1.1473043 & 0.12678743 &    9.049038 & 1.442334e-19\\\\\n",
       "\tage<35 & -1.7973750 & 0.12092630 &  -14.863392 & 5.696626e-50\\\\\n",
       "\tregionsouth &  0.8194846 & 0.07102793 &   11.537497 & 8.537307e-31\\\\\n",
       "\\end{tabular}\n"
      ],
      "text/markdown": [
       "\n",
       "A matrix: 7 × 4 of type dbl\n",
       "\n",
       "| <!--/--> | Estimate | Std. Error | z value | Pr(&gt;|z|) |\n",
       "|---|---|---|---|---|\n",
       "| (Intercept) | -8.8609343 | 0.08795391 | -100.745204 | 0.000000e+00 |\n",
       "| age45-54 |  0.1157128 | 0.11249047 |    1.028645 | 3.036465e-01 |\n",
       "| age55-64 |  0.4444275 | 0.11239675 |    3.954096 | 7.682470e-05 |\n",
       "| age65-74 |  0.5683492 | 0.12621421 |    4.503052 | 6.698436e-06 |\n",
       "| age75+ |  1.1473043 | 0.12678743 |    9.049038 | 1.442334e-19 |\n",
       "| age&lt;35 | -1.7973750 | 0.12092630 |  -14.863392 | 5.696626e-50 |\n",
       "| regionsouth |  0.8194846 | 0.07102793 |   11.537497 | 8.537307e-31 |\n",
       "\n"
      ],
      "text/plain": [
       "            Estimate   Std. Error z value     Pr(>|z|)    \n",
       "(Intercept) -8.8609343 0.08795391 -100.745204 0.000000e+00\n",
       "age45-54     0.1157128 0.11249047    1.028645 3.036465e-01\n",
       "age55-64     0.4444275 0.11239675    3.954096 7.682470e-05\n",
       "age65-74     0.5683492 0.12621421    4.503052 6.698436e-06\n",
       "age75+       1.1473043 0.12678743    9.049038 1.442334e-19\n",
       "age<35      -1.7973750 0.12092630  -14.863392 5.696626e-50\n",
       "regionsouth  0.8194846 0.07102793   11.537497 8.537307e-31"
      ]
     },
     "metadata": {},
     "output_type": "display_data"
    }
   ],
   "source": [
    "log.rt.summary$coefficients"
   ]
  },
  {
   "cell_type": "code",
   "execution_count": null,
   "id": "a5ef3fc2",
   "metadata": {},
   "outputs": [],
   "source": []
  }
 ],
 "metadata": {
  "kernelspec": {
   "display_name": "R",
   "language": "R",
   "name": "ir"
  },
  "language_info": {
   "codemirror_mode": "r",
   "file_extension": ".r",
   "mimetype": "text/x-r-source",
   "name": "R",
   "pygments_lexer": "r",
   "version": "4.0.3"
  }
 },
 "nbformat": 4,
 "nbformat_minor": 5
}
