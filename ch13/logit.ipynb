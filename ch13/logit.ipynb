{
 "cells": [
  {
   "cell_type": "code",
   "execution_count": 1,
   "id": "293e5c5f",
   "metadata": {},
   "outputs": [
    {
     "data": {
      "text/html": [
       "<table class=\"dataframe\">\n",
       "<caption>A matrix: 4 × 50 of type dbl</caption>\n",
       "<tbody>\n",
       "\t<tr><th scope=row>p_no</th><td>  1.00</td><td>  2.00</td><td>  3.000</td><td>  4.000</td><td> 5.000</td><td> 6.000</td><td> 7.000</td><td> 8.000</td><td>  9.000</td><td> 10.000</td><td>⋯</td><td>41.000</td><td>42.00</td><td>43.000</td><td> 44.000</td><td>45.000</td><td> 46.000</td><td> 47.000</td><td>48.000</td><td> 49.000</td><td>50.000</td></tr>\n",
       "\t<tr><th scope=row>occurr</th><td>  1.00</td><td>  0.00</td><td>  0.000</td><td>  1.000</td><td> 1.000</td><td> 0.000</td><td> 0.000</td><td> 1.000</td><td>  1.000</td><td>  0.000</td><td>⋯</td><td> 0.000</td><td> 0.00</td><td> 0.000</td><td>  1.000</td><td> 1.000</td><td>  1.000</td><td>  1.000</td><td> 0.000</td><td>  1.000</td><td> 1.000</td></tr>\n",
       "\t<tr><th scope=row>con_metric</th><td>  0.65</td><td>  0.61</td><td>  0.744</td><td>  0.213</td><td> 0.723</td><td> 0.678</td><td> 0.733</td><td> 0.522</td><td>  0.552</td><td>  0.245</td><td>⋯</td><td> 0.732</td><td> 0.23</td><td> 0.593</td><td>  0.875</td><td> 0.657</td><td>  0.391</td><td>  0.453</td><td> 0.127</td><td>  0.609</td><td> 0.761</td></tr>\n",
       "\t<tr><th scope=row>p_size_km</th><td>130.90</td><td>104.10</td><td>132.300</td><td>225.600</td><td>83.000</td><td>48.800</td><td>61.000</td><td>39.600</td><td>193.100</td><td>155.600</td><td>⋯</td><td>53.400</td><td>84.60</td><td>82.800</td><td>203.500</td><td>33.400</td><td>198.200</td><td>194.600</td><td>98.000</td><td>160.700</td><td>66.500</td></tr>\n",
       "</tbody>\n",
       "</table>\n"
      ],
      "text/latex": [
       "A matrix: 4 × 50 of type dbl\n",
       "\\begin{tabular}{r|lllllllllllllllllllll}\n",
       "\tp\\_no &   1.00 &   2.00 &   3.000 &   4.000 &  5.000 &  6.000 &  7.000 &  8.000 &   9.000 &  10.000 & ⋯ & 41.000 & 42.00 & 43.000 &  44.000 & 45.000 &  46.000 &  47.000 & 48.000 &  49.000 & 50.000\\\\\n",
       "\toccurr &   1.00 &   0.00 &   0.000 &   1.000 &  1.000 &  0.000 &  0.000 &  1.000 &   1.000 &   0.000 & ⋯ &  0.000 &  0.00 &  0.000 &   1.000 &  1.000 &   1.000 &   1.000 &  0.000 &   1.000 &  1.000\\\\\n",
       "\tcon\\_metric &   0.65 &   0.61 &   0.744 &   0.213 &  0.723 &  0.678 &  0.733 &  0.522 &   0.552 &   0.245 & ⋯ &  0.732 &  0.23 &  0.593 &   0.875 &  0.657 &   0.391 &   0.453 &  0.127 &   0.609 &  0.761\\\\\n",
       "\tp\\_size\\_km & 130.90 & 104.10 & 132.300 & 225.600 & 83.000 & 48.800 & 61.000 & 39.600 & 193.100 & 155.600 & ⋯ & 53.400 & 84.60 & 82.800 & 203.500 & 33.400 & 198.200 & 194.600 & 98.000 & 160.700 & 66.500\\\\\n",
       "\\end{tabular}\n"
      ],
      "text/markdown": [
       "\n",
       "A matrix: 4 × 50 of type dbl\n",
       "\n",
       "| p_no |   1.00 |   2.00 |   3.000 |   4.000 |  5.000 |  6.000 |  7.000 |  8.000 |   9.000 |  10.000 | ⋯ | 41.000 | 42.00 | 43.000 |  44.000 | 45.000 |  46.000 |  47.000 | 48.000 |  49.000 | 50.000 |\n",
       "| occurr |   1.00 |   0.00 |   0.000 |   1.000 |  1.000 |  0.000 |  0.000 |  1.000 |   1.000 |   0.000 | ⋯ |  0.000 |  0.00 |  0.000 |   1.000 |  1.000 |   1.000 |   1.000 |  0.000 |   1.000 |  1.000 |\n",
       "| con_metric |   0.65 |   0.61 |   0.744 |   0.213 |  0.723 |  0.678 |  0.733 |  0.522 |   0.552 |   0.245 | ⋯ |  0.732 |  0.23 |  0.593 |   0.875 |  0.657 |   0.391 |   0.453 |  0.127 |   0.609 |  0.761 |\n",
       "| p_size_km | 130.90 | 104.10 | 132.300 | 225.600 | 83.000 | 48.800 | 61.000 | 39.600 | 193.100 | 155.600 | ⋯ | 53.400 | 84.60 | 82.800 | 203.500 | 33.400 | 198.200 | 194.600 | 98.000 | 160.700 | 66.500 |\n",
       "\n"
      ],
      "text/plain": [
       "           [,1]   [,2]   [,3]    [,4]    [,5]   [,6]   [,7]   [,8]   [,9]   \n",
       "p_no         1.00   2.00   3.000   4.000  5.000  6.000  7.000  8.000   9.000\n",
       "occurr       1.00   0.00   0.000   1.000  1.000  0.000  0.000  1.000   1.000\n",
       "con_metric   0.65   0.61   0.744   0.213  0.723  0.678  0.733  0.522   0.552\n",
       "p_size_km  130.90 104.10 132.300 225.600 83.000 48.800 61.000 39.600 193.100\n",
       "           [,10]   [,11] [,12]  [,13] [,14]  [,15]   [,16]  [,17]   [,18]  \n",
       "p_no        10.000 ⋯     41.000 42.00 43.000  44.000 45.000  46.000  47.000\n",
       "occurr       0.000 ⋯      0.000  0.00  0.000   1.000  1.000   1.000   1.000\n",
       "con_metric   0.245 ⋯      0.732  0.23  0.593   0.875  0.657   0.391   0.453\n",
       "p_size_km  155.600 ⋯     53.400 84.60 82.800 203.500 33.400 198.200 194.600\n",
       "           [,19]  [,20]   [,21] \n",
       "p_no       48.000  49.000 50.000\n",
       "occurr      0.000   1.000  1.000\n",
       "con_metric  0.127   0.609  0.761\n",
       "p_size_km  98.000 160.700 66.500"
      ]
     },
     "metadata": {},
     "output_type": "display_data"
    }
   ],
   "source": [
    "# 로지스틱 회귀모형 : 이항자료\n",
    "glider <- read.csv('../reg2020/sugar_glider_binomial.csv')\n",
    "t(glider)"
   ]
  },
  {
   "cell_type": "code",
   "execution_count": 4,
   "id": "fcba88ec",
   "metadata": {},
   "outputs": [
    {
     "data": {
      "text/plain": [
       "\n",
       "Call:  glm(formula = occurr ~ p_size_km, family = binomial(link = logit), \n",
       "    data = glider)\n",
       "\n",
       "Coefficients:\n",
       "(Intercept)    p_size_km  \n",
       "   -2.52830      0.02173  \n",
       "\n",
       "Degrees of Freedom: 49 Total (i.e. Null);  48 Residual\n",
       "Null Deviance:\t    68.99 \n",
       "Residual Deviance: 55.72 \tAIC: 59.72"
      ]
     },
     "metadata": {},
     "output_type": "display_data"
    }
   ],
   "source": [
    "logit_m2 <- glm(occurr~p_size_km, family=binomial(link=logit),data=glider)\n",
    "logit_m2"
   ]
  },
  {
   "cell_type": "code",
   "execution_count": 6,
   "id": "8d48e19c",
   "metadata": {},
   "outputs": [
    {
     "data": {
      "text/plain": [
       "\n",
       "Call:\n",
       "glm(formula = occurr ~ p_size_km, family = binomial(link = logit), \n",
       "    data = glider)\n",
       "\n",
       "Deviance Residuals: \n",
       "    Min       1Q   Median       3Q      Max  \n",
       "-1.5541  -0.8980  -0.5157   0.8075   2.0394  \n",
       "\n",
       "Coefficients:\n",
       "             Estimate Std. Error z value Pr(>|z|)   \n",
       "(Intercept) -2.528298   0.820251  -3.082  0.00205 **\n",
       "p_size_km    0.021727   0.006893   3.152  0.00162 **\n",
       "---\n",
       "Signif. codes:  0 ‘***’ 0.001 ‘**’ 0.01 ‘*’ 0.05 ‘.’ 0.1 ‘ ’ 1\n",
       "\n",
       "(Dispersion parameter for binomial family taken to be 1)\n",
       "\n",
       "    Null deviance: 68.994  on 49  degrees of freedom\n",
       "Residual deviance: 55.716  on 48  degrees of freedom\n",
       "AIC: 59.716\n",
       "\n",
       "Number of Fisher Scoring iterations: 3\n"
      ]
     },
     "metadata": {},
     "output_type": "display_data"
    }
   ],
   "source": [
    "logit_m2.summary <- summary(logit_m2)\n",
    "logit_m2.summary"
   ]
  },
  {
   "cell_type": "code",
   "execution_count": 7,
   "id": "c329e80e",
   "metadata": {},
   "outputs": [
    {
     "data": {
      "text/html": [
       "<table class=\"dataframe\">\n",
       "<caption>A matrix: 2 × 4 of type dbl</caption>\n",
       "<thead>\n",
       "\t<tr><th></th><th scope=col>Estimate</th><th scope=col>Std. Error</th><th scope=col>z value</th><th scope=col>Pr(&gt;|z|)</th></tr>\n",
       "</thead>\n",
       "<tbody>\n",
       "\t<tr><th scope=row>(Intercept)</th><td>-2.5282979</td><td>0.820250790</td><td>-3.082347</td><td>0.002053750</td></tr>\n",
       "\t<tr><th scope=row>p_size_km</th><td> 0.0217269</td><td>0.006892667</td><td> 3.152175</td><td>0.001620589</td></tr>\n",
       "</tbody>\n",
       "</table>\n"
      ],
      "text/latex": [
       "A matrix: 2 × 4 of type dbl\n",
       "\\begin{tabular}{r|llll}\n",
       "  & Estimate & Std. Error & z value & Pr(>\\textbar{}z\\textbar{})\\\\\n",
       "\\hline\n",
       "\t(Intercept) & -2.5282979 & 0.820250790 & -3.082347 & 0.002053750\\\\\n",
       "\tp\\_size\\_km &  0.0217269 & 0.006892667 &  3.152175 & 0.001620589\\\\\n",
       "\\end{tabular}\n"
      ],
      "text/markdown": [
       "\n",
       "A matrix: 2 × 4 of type dbl\n",
       "\n",
       "| <!--/--> | Estimate | Std. Error | z value | Pr(&gt;|z|) |\n",
       "|---|---|---|---|---|\n",
       "| (Intercept) | -2.5282979 | 0.820250790 | -3.082347 | 0.002053750 |\n",
       "| p_size_km |  0.0217269 | 0.006892667 |  3.152175 | 0.001620589 |\n",
       "\n"
      ],
      "text/plain": [
       "            Estimate   Std. Error  z value   Pr(>|z|)   \n",
       "(Intercept) -2.5282979 0.820250790 -3.082347 0.002053750\n",
       "p_size_km    0.0217269 0.006892667  3.152175 0.001620589"
      ]
     },
     "metadata": {},
     "output_type": "display_data"
    }
   ],
   "source": [
    "logit_m2.summary$coefficients"
   ]
  },
  {
   "cell_type": "code",
   "execution_count": 14,
   "id": "c3bc041c",
   "metadata": {},
   "outputs": [
    {
     "data": {
      "text/html": [
       "<style>\n",
       ".dl-inline {width: auto; margin:0; padding: 0}\n",
       ".dl-inline>dt, .dl-inline>dd {float: none; width: auto; display: inline-block}\n",
       ".dl-inline>dt::after {content: \":\\0020\"; padding-right: .5ex}\n",
       ".dl-inline>dt:not(:first-of-type) {padding-left: .5ex}\n",
       "</style><dl class=dl-inline><dt>(Intercept)</dt><dd>-2.52829787252681</dd><dt>p_size_km</dt><dd>0.0217268957192452</dd></dl>\n"
      ],
      "text/latex": [
       "\\begin{description*}\n",
       "\\item[(Intercept)] -2.52829787252681\n",
       "\\item[p\\textbackslash{}\\_size\\textbackslash{}\\_km] 0.0217268957192452\n",
       "\\end{description*}\n"
      ],
      "text/markdown": [
       "(Intercept)\n",
       ":   -2.52829787252681p_size_km\n",
       ":   0.0217268957192452\n",
       "\n"
      ],
      "text/plain": [
       "(Intercept)   p_size_km \n",
       " -2.5282979   0.0217269 "
      ]
     },
     "metadata": {},
     "output_type": "display_data"
    },
    {
     "data": {
      "text/html": [
       "<style>\n",
       ".dl-inline {width: auto; margin:0; padding: 0}\n",
       ".dl-inline>dt, .dl-inline>dd {float: none; width: auto; display: inline-block}\n",
       ".dl-inline>dt::after {content: \":\\0020\"; padding-right: .5ex}\n",
       ".dl-inline>dt:not(:first-of-type) {padding-left: .5ex}\n",
       "</style><dl class=dl-inline><dt>(Intercept)</dt><dd>0.0797947255538822</dd><dt>p_size_km</dt><dd>1.02196464343597</dd></dl>\n"
      ],
      "text/latex": [
       "\\begin{description*}\n",
       "\\item[(Intercept)] 0.0797947255538822\n",
       "\\item[p\\textbackslash{}\\_size\\textbackslash{}\\_km] 1.02196464343597\n",
       "\\end{description*}\n"
      ],
      "text/markdown": [
       "(Intercept)\n",
       ":   0.0797947255538822p_size_km\n",
       ":   1.02196464343597\n",
       "\n"
      ],
      "text/plain": [
       "(Intercept)   p_size_km \n",
       " 0.07979473  1.02196464 "
      ]
     },
     "metadata": {},
     "output_type": "display_data"
    }
   ],
   "source": [
    "# 승산비 구하기\n",
    "glider <- read.csv('../reg2020/sugar_glider_binomial.csv')\n",
    "logit_m2 <- glm(occurr~p_size_km, family=binomial(link=logit), data=glider)\n",
    "\n",
    "#coef는 계수를 구하는 함수\n",
    "coef(logit_m2)\n",
    "# logit_m2$coefficients와 같다\n",
    "\n",
    "exp(coef(logit_m2))"
   ]
  },
  {
   "cell_type": "code",
   "execution_count": 15,
   "id": "7a4b28dc",
   "metadata": {},
   "outputs": [
    {
     "name": "stderr",
     "output_type": "stream",
     "text": [
      "Waiting for profiling to be done...\n",
      "\n"
     ]
    },
    {
     "data": {
      "text/html": [
       "<style>\n",
       ".dl-inline {width: auto; margin:0; padding: 0}\n",
       ".dl-inline>dt, .dl-inline>dd {float: none; width: auto; display: inline-block}\n",
       ".dl-inline>dt::after {content: \":\\0020\"; padding-right: .5ex}\n",
       ".dl-inline>dt:not(:first-of-type) {padding-left: .5ex}\n",
       "</style><dl class=dl-inline><dt>2.5 %</dt><dd>0.00937949376867154</dd><dt>97.5 %</dt><dd>0.0368479936024381</dd></dl>\n"
      ],
      "text/latex": [
       "\\begin{description*}\n",
       "\\item[2.5 \\textbackslash{}\\%] 0.00937949376867154\n",
       "\\item[97.5 \\textbackslash{}\\%] 0.0368479936024381\n",
       "\\end{description*}\n"
      ],
      "text/markdown": [
       "2.5 %\n",
       ":   0.0093794937686715497.5 %\n",
       ":   0.0368479936024381\n",
       "\n"
      ],
      "text/plain": [
       "      2.5 %      97.5 % \n",
       "0.009379494 0.036847994 "
      ]
     },
     "metadata": {},
     "output_type": "display_data"
    }
   ],
   "source": [
    "# confint함수는 신뢰구간을 구하는 함수\n",
    "confint(logit_m2, parm='p_size_km', level=0.95)"
   ]
  },
  {
   "cell_type": "code",
   "execution_count": 16,
   "id": "13d8583e",
   "metadata": {},
   "outputs": [
    {
     "name": "stderr",
     "output_type": "stream",
     "text": [
      "Waiting for profiling to be done...\n",
      "\n"
     ]
    },
    {
     "data": {
      "text/html": [
       "<table class=\"dataframe\">\n",
       "<caption>A matrix: 2 × 2 of type dbl</caption>\n",
       "<thead>\n",
       "\t<tr><th></th><th scope=col>2.5 %</th><th scope=col>97.5 %</th></tr>\n",
       "</thead>\n",
       "<tbody>\n",
       "\t<tr><th scope=row>(Intercept)</th><td>0.01328444</td><td>0.3489337</td></tr>\n",
       "\t<tr><th scope=row>p_size_km</th><td>1.00942362</td><td>1.0375353</td></tr>\n",
       "</tbody>\n",
       "</table>\n"
      ],
      "text/latex": [
       "A matrix: 2 × 2 of type dbl\n",
       "\\begin{tabular}{r|ll}\n",
       "  & 2.5 \\% & 97.5 \\%\\\\\n",
       "\\hline\n",
       "\t(Intercept) & 0.01328444 & 0.3489337\\\\\n",
       "\tp\\_size\\_km & 1.00942362 & 1.0375353\\\\\n",
       "\\end{tabular}\n"
      ],
      "text/markdown": [
       "\n",
       "A matrix: 2 × 2 of type dbl\n",
       "\n",
       "| <!--/--> | 2.5 % | 97.5 % |\n",
       "|---|---|---|\n",
       "| (Intercept) | 0.01328444 | 0.3489337 |\n",
       "| p_size_km | 1.00942362 | 1.0375353 |\n",
       "\n"
      ],
      "text/plain": [
       "            2.5 %      97.5 %   \n",
       "(Intercept) 0.01328444 0.3489337\n",
       "p_size_km   1.00942362 1.0375353"
      ]
     },
     "metadata": {},
     "output_type": "display_data"
    }
   ],
   "source": [
    "exp(confint(logit_m2, param='p_size_km', level=0.95))"
   ]
  },
  {
   "cell_type": "code",
   "execution_count": 17,
   "id": "8c17fe03",
   "metadata": {},
   "outputs": [],
   "source": [
    "# 구획의 크기가 1km 증가할 때마다 sugar glider가 출현할 승산은 약 1.022배 증가하는 것으로 추정된다.(계수가 0.217쯤 되므로)\n",
    "# 95% 신뢰수준에서 승산은 1.009~1.038배 사이에서 증가할 것으로 추정됨"
   ]
  },
  {
   "cell_type": "code",
   "execution_count": 23,
   "id": "7a467bae",
   "metadata": {},
   "outputs": [
    {
     "data": {
      "text/html": [
       "<strong>1:</strong> 0.674966868413696"
      ],
      "text/latex": [
       "\\textbf{1:} 0.674966868413696"
      ],
      "text/markdown": [
       "**1:** 0.674966868413696"
      ],
      "text/plain": [
       "        1 \n",
       "0.6749669 "
      ]
     },
     "metadata": {},
     "output_type": "display_data"
    }
   ],
   "source": [
    "# π(x)의 추정\n",
    "x <- 150\n",
    "predict(logit_m2, list(p_size_km=x), type='response')"
   ]
  },
  {
   "cell_type": "code",
   "execution_count": null,
   "id": "9a91e455",
   "metadata": {},
   "outputs": [],
   "source": []
  }
 ],
 "metadata": {
  "kernelspec": {
   "display_name": "R",
   "language": "R",
   "name": "ir"
  },
  "language_info": {
   "codemirror_mode": "r",
   "file_extension": ".r",
   "mimetype": "text/x-r-source",
   "name": "R",
   "pygments_lexer": "r",
   "version": "4.0.3"
  }
 },
 "nbformat": 4,
 "nbformat_minor": 5
}
