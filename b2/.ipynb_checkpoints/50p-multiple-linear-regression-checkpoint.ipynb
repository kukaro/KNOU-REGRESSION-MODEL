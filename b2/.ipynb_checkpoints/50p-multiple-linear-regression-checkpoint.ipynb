{
 "cells": [
  {
   "cell_type": "code",
   "execution_count": 1,
   "id": "bcb24e46",
   "metadata": {},
   "outputs": [],
   "source": [
    "market2 <- read.table('../reg2020/market-2.txt', header=T)"
   ]
  },
  {
   "cell_type": "code",
   "execution_count": 2,
   "id": "796dc6fd",
   "metadata": {},
   "outputs": [
    {
     "data": {
      "text/html": [
       "<table class=\"dataframe\">\n",
       "<caption>A matrix: 4 × 15 of type dbl</caption>\n",
       "<tbody>\n",
       "\t<tr><th scope=row>ID</th><td>1.0</td><td> 2.0</td><td> 3.0</td><td> 4.0</td><td> 5.0</td><td> 6.0</td><td> 7.0</td><td> 8.0</td><td> 9.0</td><td>10.0</td><td>11.0</td><td>12.0</td><td>13.0</td><td>14.0</td><td>15.0</td></tr>\n",
       "\t<tr><th scope=row>X1</th><td>4.2</td><td> 8.5</td><td> 9.3</td><td> 7.5</td><td> 6.3</td><td>12.2</td><td> 6.5</td><td>10.4</td><td> 5.8</td><td> 9.2</td><td> 7.2</td><td> 8.5</td><td>10.6</td><td>13.9</td><td>12.7</td></tr>\n",
       "\t<tr><th scope=row>X2</th><td>4.5</td><td>12.0</td><td>15.0</td><td> 8.5</td><td> 7.4</td><td>18.5</td><td> 5.5</td><td>16.5</td><td> 3.7</td><td>13.5</td><td> 5.2</td><td>15.0</td><td>14.4</td><td>13.3</td><td>12.5</td></tr>\n",
       "\t<tr><th scope=row>Y</th><td>9.3</td><td>18.5</td><td>22.8</td><td>17.7</td><td>14.6</td><td>27.9</td><td>12.5</td><td>25.2</td><td>10.8</td><td>20.5</td><td>14.9</td><td>19.2</td><td>22.5</td><td>28.4</td><td>25.6</td></tr>\n",
       "</tbody>\n",
       "</table>\n"
      ],
      "text/latex": [
       "A matrix: 4 × 15 of type dbl\n",
       "\\begin{tabular}{r|lllllllllllllll}\n",
       "\tID & 1.0 &  2.0 &  3.0 &  4.0 &  5.0 &  6.0 &  7.0 &  8.0 &  9.0 & 10.0 & 11.0 & 12.0 & 13.0 & 14.0 & 15.0\\\\\n",
       "\tX1 & 4.2 &  8.5 &  9.3 &  7.5 &  6.3 & 12.2 &  6.5 & 10.4 &  5.8 &  9.2 &  7.2 &  8.5 & 10.6 & 13.9 & 12.7\\\\\n",
       "\tX2 & 4.5 & 12.0 & 15.0 &  8.5 &  7.4 & 18.5 &  5.5 & 16.5 &  3.7 & 13.5 &  5.2 & 15.0 & 14.4 & 13.3 & 12.5\\\\\n",
       "\tY & 9.3 & 18.5 & 22.8 & 17.7 & 14.6 & 27.9 & 12.5 & 25.2 & 10.8 & 20.5 & 14.9 & 19.2 & 22.5 & 28.4 & 25.6\\\\\n",
       "\\end{tabular}\n"
      ],
      "text/markdown": [
       "\n",
       "A matrix: 4 × 15 of type dbl\n",
       "\n",
       "| ID | 1.0 |  2.0 |  3.0 |  4.0 |  5.0 |  6.0 |  7.0 |  8.0 |  9.0 | 10.0 | 11.0 | 12.0 | 13.0 | 14.0 | 15.0 |\n",
       "| X1 | 4.2 |  8.5 |  9.3 |  7.5 |  6.3 | 12.2 |  6.5 | 10.4 |  5.8 |  9.2 |  7.2 |  8.5 | 10.6 | 13.9 | 12.7 |\n",
       "| X2 | 4.5 | 12.0 | 15.0 |  8.5 |  7.4 | 18.5 |  5.5 | 16.5 |  3.7 | 13.5 |  5.2 | 15.0 | 14.4 | 13.3 | 12.5 |\n",
       "| Y | 9.3 | 18.5 | 22.8 | 17.7 | 14.6 | 27.9 | 12.5 | 25.2 | 10.8 | 20.5 | 14.9 | 19.2 | 22.5 | 28.4 | 25.6 |\n",
       "\n"
      ],
      "text/plain": [
       "   [,1] [,2] [,3] [,4] [,5] [,6] [,7] [,8] [,9] [,10] [,11] [,12] [,13] [,14]\n",
       "ID 1.0   2.0  3.0  4.0  5.0  6.0  7.0  8.0  9.0 10.0  11.0  12.0  13.0  14.0 \n",
       "X1 4.2   8.5  9.3  7.5  6.3 12.2  6.5 10.4  5.8  9.2   7.2   8.5  10.6  13.9 \n",
       "X2 4.5  12.0 15.0  8.5  7.4 18.5  5.5 16.5  3.7 13.5   5.2  15.0  14.4  13.3 \n",
       "Y  9.3  18.5 22.8 17.7 14.6 27.9 12.5 25.2 10.8 20.5  14.9  19.2  22.5  28.4 \n",
       "   [,15]\n",
       "ID 15.0 \n",
       "X1 12.7 \n",
       "X2 12.5 \n",
       "Y  25.6 "
      ]
     },
     "metadata": {},
     "output_type": "display_data"
    }
   ],
   "source": [
    "t(market2)"
   ]
  },
  {
   "cell_type": "code",
   "execution_count": 4,
   "id": "2e17cbc1",
   "metadata": {},
   "outputs": [
    {
     "data": {
      "text/html": [
       "<table class=\"dataframe\">\n",
       "<caption>A matrix: 2 × 15 of type dbl</caption>\n",
       "<tbody>\n",
       "\t<tr><th scope=row>X1</th><td>4.2</td><td> 8.5</td><td> 9.3</td><td>7.5</td><td>6.3</td><td>12.2</td><td>6.5</td><td>10.4</td><td>5.8</td><td> 9.2</td><td>7.2</td><td> 8.5</td><td>10.6</td><td>13.9</td><td>12.7</td></tr>\n",
       "\t<tr><th scope=row>X2</th><td>4.5</td><td>12.0</td><td>15.0</td><td>8.5</td><td>7.4</td><td>18.5</td><td>5.5</td><td>16.5</td><td>3.7</td><td>13.5</td><td>5.2</td><td>15.0</td><td>14.4</td><td>13.3</td><td>12.5</td></tr>\n",
       "</tbody>\n",
       "</table>\n"
      ],
      "text/latex": [
       "A matrix: 2 × 15 of type dbl\n",
       "\\begin{tabular}{r|lllllllllllllll}\n",
       "\tX1 & 4.2 &  8.5 &  9.3 & 7.5 & 6.3 & 12.2 & 6.5 & 10.4 & 5.8 &  9.2 & 7.2 &  8.5 & 10.6 & 13.9 & 12.7\\\\\n",
       "\tX2 & 4.5 & 12.0 & 15.0 & 8.5 & 7.4 & 18.5 & 5.5 & 16.5 & 3.7 & 13.5 & 5.2 & 15.0 & 14.4 & 13.3 & 12.5\\\\\n",
       "\\end{tabular}\n"
      ],
      "text/markdown": [
       "\n",
       "A matrix: 2 × 15 of type dbl\n",
       "\n",
       "| X1 | 4.2 |  8.5 |  9.3 | 7.5 | 6.3 | 12.2 | 6.5 | 10.4 | 5.8 |  9.2 | 7.2 |  8.5 | 10.6 | 13.9 | 12.7 |\n",
       "| X2 | 4.5 | 12.0 | 15.0 | 8.5 | 7.4 | 18.5 | 5.5 | 16.5 | 3.7 | 13.5 | 5.2 | 15.0 | 14.4 | 13.3 | 12.5 |\n",
       "\n"
      ],
      "text/plain": [
       "   [,1] [,2] [,3] [,4] [,5] [,6] [,7] [,8] [,9] [,10] [,11] [,12] [,13] [,14]\n",
       "X1 4.2   8.5  9.3 7.5  6.3  12.2 6.5  10.4 5.8   9.2  7.2    8.5  10.6  13.9 \n",
       "X2 4.5  12.0 15.0 8.5  7.4  18.5 5.5  16.5 3.7  13.5  5.2   15.0  14.4  13.3 \n",
       "   [,15]\n",
       "X1 12.7 \n",
       "X2 12.5 "
      ]
     },
     "metadata": {},
     "output_type": "display_data"
    }
   ],
   "source": [
    "X <- market2[,c(2,3)]\n",
    "t(X)"
   ]
  },
  {
   "cell_type": "code",
   "execution_count": 5,
   "id": "751d3fad",
   "metadata": {},
   "outputs": [
    {
     "data": {
      "text/html": [
       "<table class=\"dataframe\">\n",
       "<caption>A matrix: 3 × 15 of type dbl</caption>\n",
       "<tbody>\n",
       "\t<tr><th scope=row>1</th><td>1.0</td><td> 1.0</td><td> 1.0</td><td>1.0</td><td>1.0</td><td> 1.0</td><td>1.0</td><td> 1.0</td><td>1.0</td><td> 1.0</td><td>1.0</td><td> 1.0</td><td> 1.0</td><td> 1.0</td><td> 1.0</td></tr>\n",
       "\t<tr><th scope=row>X1</th><td>4.2</td><td> 8.5</td><td> 9.3</td><td>7.5</td><td>6.3</td><td>12.2</td><td>6.5</td><td>10.4</td><td>5.8</td><td> 9.2</td><td>7.2</td><td> 8.5</td><td>10.6</td><td>13.9</td><td>12.7</td></tr>\n",
       "\t<tr><th scope=row>X2</th><td>4.5</td><td>12.0</td><td>15.0</td><td>8.5</td><td>7.4</td><td>18.5</td><td>5.5</td><td>16.5</td><td>3.7</td><td>13.5</td><td>5.2</td><td>15.0</td><td>14.4</td><td>13.3</td><td>12.5</td></tr>\n",
       "</tbody>\n",
       "</table>\n"
      ],
      "text/latex": [
       "A matrix: 3 × 15 of type dbl\n",
       "\\begin{tabular}{r|lllllllllllllll}\n",
       "\t1 & 1.0 &  1.0 &  1.0 & 1.0 & 1.0 &  1.0 & 1.0 &  1.0 & 1.0 &  1.0 & 1.0 &  1.0 &  1.0 &  1.0 &  1.0\\\\\n",
       "\tX1 & 4.2 &  8.5 &  9.3 & 7.5 & 6.3 & 12.2 & 6.5 & 10.4 & 5.8 &  9.2 & 7.2 &  8.5 & 10.6 & 13.9 & 12.7\\\\\n",
       "\tX2 & 4.5 & 12.0 & 15.0 & 8.5 & 7.4 & 18.5 & 5.5 & 16.5 & 3.7 & 13.5 & 5.2 & 15.0 & 14.4 & 13.3 & 12.5\\\\\n",
       "\\end{tabular}\n"
      ],
      "text/markdown": [
       "\n",
       "A matrix: 3 × 15 of type dbl\n",
       "\n",
       "| 1 | 1.0 |  1.0 |  1.0 | 1.0 | 1.0 |  1.0 | 1.0 |  1.0 | 1.0 |  1.0 | 1.0 |  1.0 |  1.0 |  1.0 |  1.0 |\n",
       "| X1 | 4.2 |  8.5 |  9.3 | 7.5 | 6.3 | 12.2 | 6.5 | 10.4 | 5.8 |  9.2 | 7.2 |  8.5 | 10.6 | 13.9 | 12.7 |\n",
       "| X2 | 4.5 | 12.0 | 15.0 | 8.5 | 7.4 | 18.5 | 5.5 | 16.5 | 3.7 | 13.5 | 5.2 | 15.0 | 14.4 | 13.3 | 12.5 |\n",
       "\n"
      ],
      "text/plain": [
       "   [,1] [,2] [,3] [,4] [,5] [,6] [,7] [,8] [,9] [,10] [,11] [,12] [,13] [,14]\n",
       "1  1.0   1.0  1.0 1.0  1.0   1.0 1.0   1.0 1.0   1.0  1.0    1.0   1.0   1.0 \n",
       "X1 4.2   8.5  9.3 7.5  6.3  12.2 6.5  10.4 5.8   9.2  7.2    8.5  10.6  13.9 \n",
       "X2 4.5  12.0 15.0 8.5  7.4  18.5 5.5  16.5 3.7  13.5  5.2   15.0  14.4  13.3 \n",
       "   [,15]\n",
       "1   1.0 \n",
       "X1 12.7 \n",
       "X2 12.5 "
      ]
     },
     "metadata": {},
     "output_type": "display_data"
    }
   ],
   "source": [
    "X <- cbind(1,X)\n",
    "t(X)"
   ]
  },
  {
   "cell_type": "code",
   "execution_count": 6,
   "id": "dab4eb48",
   "metadata": {},
   "outputs": [
    {
     "data": {
      "text/html": [
       "<table class=\"dataframe\">\n",
       "<caption>A matrix: 1 × 15 of type dbl</caption>\n",
       "<tbody>\n",
       "\t<tr><td>9.3</td><td>18.5</td><td>22.8</td><td>17.7</td><td>14.6</td><td>27.9</td><td>12.5</td><td>25.2</td><td>10.8</td><td>20.5</td><td>14.9</td><td>19.2</td><td>22.5</td><td>28.4</td><td>25.6</td></tr>\n",
       "</tbody>\n",
       "</table>\n"
      ],
      "text/latex": [
       "A matrix: 1 × 15 of type dbl\n",
       "\\begin{tabular}{lllllllllllllll}\n",
       "\t 9.3 & 18.5 & 22.8 & 17.7 & 14.6 & 27.9 & 12.5 & 25.2 & 10.8 & 20.5 & 14.9 & 19.2 & 22.5 & 28.4 & 25.6\\\\\n",
       "\\end{tabular}\n"
      ],
      "text/markdown": [
       "\n",
       "A matrix: 1 × 15 of type dbl\n",
       "\n",
       "| 9.3 | 18.5 | 22.8 | 17.7 | 14.6 | 27.9 | 12.5 | 25.2 | 10.8 | 20.5 | 14.9 | 19.2 | 22.5 | 28.4 | 25.6 |\n",
       "\n"
      ],
      "text/plain": [
       "     [,1] [,2] [,3] [,4] [,5] [,6] [,7] [,8] [,9] [,10] [,11] [,12] [,13] [,14]\n",
       "[1,] 9.3  18.5 22.8 17.7 14.6 27.9 12.5 25.2 10.8 20.5  14.9  19.2  22.5  28.4 \n",
       "     [,15]\n",
       "[1,] 25.6 "
      ]
     },
     "metadata": {},
     "output_type": "display_data"
    }
   ],
   "source": [
    "Y <- market2[,4]\n",
    "t(Y)"
   ]
  },
  {
   "cell_type": "code",
   "execution_count": 7,
   "id": "90252c5b",
   "metadata": {},
   "outputs": [
    {
     "data": {
      "text/html": [
       "<table class=\"dataframe\">\n",
       "<caption>A matrix: 3 × 15 of type dbl</caption>\n",
       "<tbody>\n",
       "\t<tr><th scope=row>1</th><td>1.0</td><td> 1.0</td><td> 1.0</td><td>1.0</td><td>1.0</td><td> 1.0</td><td>1.0</td><td> 1.0</td><td>1.0</td><td> 1.0</td><td>1.0</td><td> 1.0</td><td> 1.0</td><td> 1.0</td><td> 1.0</td></tr>\n",
       "\t<tr><th scope=row>X1</th><td>4.2</td><td> 8.5</td><td> 9.3</td><td>7.5</td><td>6.3</td><td>12.2</td><td>6.5</td><td>10.4</td><td>5.8</td><td> 9.2</td><td>7.2</td><td> 8.5</td><td>10.6</td><td>13.9</td><td>12.7</td></tr>\n",
       "\t<tr><th scope=row>X2</th><td>4.5</td><td>12.0</td><td>15.0</td><td>8.5</td><td>7.4</td><td>18.5</td><td>5.5</td><td>16.5</td><td>3.7</td><td>13.5</td><td>5.2</td><td>15.0</td><td>14.4</td><td>13.3</td><td>12.5</td></tr>\n",
       "</tbody>\n",
       "</table>\n"
      ],
      "text/latex": [
       "A matrix: 3 × 15 of type dbl\n",
       "\\begin{tabular}{r|lllllllllllllll}\n",
       "\t1 & 1.0 &  1.0 &  1.0 & 1.0 & 1.0 &  1.0 & 1.0 &  1.0 & 1.0 &  1.0 & 1.0 &  1.0 &  1.0 &  1.0 &  1.0\\\\\n",
       "\tX1 & 4.2 &  8.5 &  9.3 & 7.5 & 6.3 & 12.2 & 6.5 & 10.4 & 5.8 &  9.2 & 7.2 &  8.5 & 10.6 & 13.9 & 12.7\\\\\n",
       "\tX2 & 4.5 & 12.0 & 15.0 & 8.5 & 7.4 & 18.5 & 5.5 & 16.5 & 3.7 & 13.5 & 5.2 & 15.0 & 14.4 & 13.3 & 12.5\\\\\n",
       "\\end{tabular}\n"
      ],
      "text/markdown": [
       "\n",
       "A matrix: 3 × 15 of type dbl\n",
       "\n",
       "| 1 | 1.0 |  1.0 |  1.0 | 1.0 | 1.0 |  1.0 | 1.0 |  1.0 | 1.0 |  1.0 | 1.0 |  1.0 |  1.0 |  1.0 |  1.0 |\n",
       "| X1 | 4.2 |  8.5 |  9.3 | 7.5 | 6.3 | 12.2 | 6.5 | 10.4 | 5.8 |  9.2 | 7.2 |  8.5 | 10.6 | 13.9 | 12.7 |\n",
       "| X2 | 4.5 | 12.0 | 15.0 | 8.5 | 7.4 | 18.5 | 5.5 | 16.5 | 3.7 | 13.5 | 5.2 | 15.0 | 14.4 | 13.3 | 12.5 |\n",
       "\n"
      ],
      "text/plain": [
       "   [,1] [,2] [,3] [,4] [,5] [,6] [,7] [,8] [,9] [,10] [,11] [,12] [,13] [,14]\n",
       "1  1.0   1.0  1.0 1.0  1.0   1.0 1.0   1.0 1.0   1.0  1.0    1.0   1.0   1.0 \n",
       "X1 4.2   8.5  9.3 7.5  6.3  12.2 6.5  10.4 5.8   9.2  7.2    8.5  10.6  13.9 \n",
       "X2 4.5  12.0 15.0 8.5  7.4  18.5 5.5  16.5 3.7  13.5  5.2   15.0  14.4  13.3 \n",
       "   [,15]\n",
       "1   1.0 \n",
       "X1 12.7 \n",
       "X2 12.5 "
      ]
     },
     "metadata": {},
     "output_type": "display_data"
    }
   ],
   "source": [
    "X <- as.matrix(X)\n",
    "t(X)"
   ]
  },
  {
   "cell_type": "code",
   "execution_count": 8,
   "id": "cb90ee41",
   "metadata": {},
   "outputs": [
    {
     "data": {
      "text/html": [
       "<table class=\"dataframe\">\n",
       "<caption>A matrix: 1 × 15 of type dbl</caption>\n",
       "<tbody>\n",
       "\t<tr><td>9.3</td><td>18.5</td><td>22.8</td><td>17.7</td><td>14.6</td><td>27.9</td><td>12.5</td><td>25.2</td><td>10.8</td><td>20.5</td><td>14.9</td><td>19.2</td><td>22.5</td><td>28.4</td><td>25.6</td></tr>\n",
       "</tbody>\n",
       "</table>\n"
      ],
      "text/latex": [
       "A matrix: 1 × 15 of type dbl\n",
       "\\begin{tabular}{lllllllllllllll}\n",
       "\t 9.3 & 18.5 & 22.8 & 17.7 & 14.6 & 27.9 & 12.5 & 25.2 & 10.8 & 20.5 & 14.9 & 19.2 & 22.5 & 28.4 & 25.6\\\\\n",
       "\\end{tabular}\n"
      ],
      "text/markdown": [
       "\n",
       "A matrix: 1 × 15 of type dbl\n",
       "\n",
       "| 9.3 | 18.5 | 22.8 | 17.7 | 14.6 | 27.9 | 12.5 | 25.2 | 10.8 | 20.5 | 14.9 | 19.2 | 22.5 | 28.4 | 25.6 |\n",
       "\n"
      ],
      "text/plain": [
       "     [,1] [,2] [,3] [,4] [,5] [,6] [,7] [,8] [,9] [,10] [,11] [,12] [,13] [,14]\n",
       "[1,] 9.3  18.5 22.8 17.7 14.6 27.9 12.5 25.2 10.8 20.5  14.9  19.2  22.5  28.4 \n",
       "     [,15]\n",
       "[1,] 25.6 "
      ]
     },
     "metadata": {},
     "output_type": "display_data"
    }
   ],
   "source": [
    "Y <- as.matrix(Y)\n",
    "t(Y)"
   ]
  },
  {
   "cell_type": "code",
   "execution_count": 9,
   "id": "0a1b1c9e",
   "metadata": {},
   "outputs": [
    {
     "data": {
      "text/html": [
       "<table class=\"dataframe\">\n",
       "<caption>A matrix: 3 × 3 of type dbl</caption>\n",
       "<thead>\n",
       "\t<tr><th></th><th scope=col>1</th><th scope=col>X1</th><th scope=col>X2</th></tr>\n",
       "</thead>\n",
       "<tbody>\n",
       "\t<tr><th scope=row>1</th><td> 15.0</td><td> 132.80</td><td> 165.50</td></tr>\n",
       "\t<tr><th scope=row>X1</th><td>132.8</td><td>1280.80</td><td>1610.68</td></tr>\n",
       "\t<tr><th scope=row>X2</th><td>165.5</td><td>1610.68</td><td>2149.49</td></tr>\n",
       "</tbody>\n",
       "</table>\n"
      ],
      "text/latex": [
       "A matrix: 3 × 3 of type dbl\n",
       "\\begin{tabular}{r|lll}\n",
       "  & 1 & X1 & X2\\\\\n",
       "\\hline\n",
       "\t1 &  15.0 &  132.80 &  165.50\\\\\n",
       "\tX1 & 132.8 & 1280.80 & 1610.68\\\\\n",
       "\tX2 & 165.5 & 1610.68 & 2149.49\\\\\n",
       "\\end{tabular}\n"
      ],
      "text/markdown": [
       "\n",
       "A matrix: 3 × 3 of type dbl\n",
       "\n",
       "| <!--/--> | 1 | X1 | X2 |\n",
       "|---|---|---|---|\n",
       "| 1 |  15.0 |  132.80 |  165.50 |\n",
       "| X1 | 132.8 | 1280.80 | 1610.68 |\n",
       "| X2 | 165.5 | 1610.68 | 2149.49 |\n",
       "\n"
      ],
      "text/plain": [
       "   1     X1      X2     \n",
       "1   15.0  132.80  165.50\n",
       "X1 132.8 1280.80 1610.68\n",
       "X2 165.5 1610.68 2149.49"
      ]
     },
     "metadata": {},
     "output_type": "display_data"
    }
   ],
   "source": [
    "XTX <- t(X) %*% X\n",
    "XTX"
   ]
  },
  {
   "cell_type": "code",
   "execution_count": 10,
   "id": "fca61b4f",
   "metadata": {},
   "outputs": [
    {
     "data": {
      "text/html": [
       "<table class=\"dataframe\">\n",
       "<caption>A matrix: 3 × 3 of type dbl</caption>\n",
       "<thead>\n",
       "\t<tr><th></th><th scope=col>1</th><th scope=col>X1</th><th scope=col>X2</th></tr>\n",
       "</thead>\n",
       "<tbody>\n",
       "\t<tr><th scope=row>1</th><td> 0.82483283</td><td>-0.09810472</td><td> 0.010004922</td></tr>\n",
       "\t<tr><th scope=row>X1</th><td>-0.09810472</td><td> 0.02520628</td><td>-0.011334282</td></tr>\n",
       "\t<tr><th scope=row>X2</th><td> 0.01000492</td><td>-0.01133428</td><td> 0.008188029</td></tr>\n",
       "</tbody>\n",
       "</table>\n"
      ],
      "text/latex": [
       "A matrix: 3 × 3 of type dbl\n",
       "\\begin{tabular}{r|lll}\n",
       "  & 1 & X1 & X2\\\\\n",
       "\\hline\n",
       "\t1 &  0.82483283 & -0.09810472 &  0.010004922\\\\\n",
       "\tX1 & -0.09810472 &  0.02520628 & -0.011334282\\\\\n",
       "\tX2 &  0.01000492 & -0.01133428 &  0.008188029\\\\\n",
       "\\end{tabular}\n"
      ],
      "text/markdown": [
       "\n",
       "A matrix: 3 × 3 of type dbl\n",
       "\n",
       "| <!--/--> | 1 | X1 | X2 |\n",
       "|---|---|---|---|\n",
       "| 1 |  0.82483283 | -0.09810472 |  0.010004922 |\n",
       "| X1 | -0.09810472 |  0.02520628 | -0.011334282 |\n",
       "| X2 |  0.01000492 | -0.01133428 |  0.008188029 |\n",
       "\n"
      ],
      "text/plain": [
       "   1           X1          X2          \n",
       "1   0.82483283 -0.09810472  0.010004922\n",
       "X1 -0.09810472  0.02520628 -0.011334282\n",
       "X2  0.01000492 -0.01133428  0.008188029"
      ]
     },
     "metadata": {},
     "output_type": "display_data"
    }
   ],
   "source": [
    "XTXI <- solve(XTX)\n",
    "XTXI"
   ]
  },
  {
   "cell_type": "code",
   "execution_count": 11,
   "id": "1b4c6b47",
   "metadata": {},
   "outputs": [
    {
     "data": {
      "text/html": [
       "<table class=\"dataframe\">\n",
       "<caption>A matrix: 3 × 1 of type dbl</caption>\n",
       "<tbody>\n",
       "\t<tr><th scope=row>1</th><td> 290.40</td></tr>\n",
       "\t<tr><th scope=row>X1</th><td>2796.89</td></tr>\n",
       "\t<tr><th scope=row>X2</th><td>3568.95</td></tr>\n",
       "</tbody>\n",
       "</table>\n"
      ],
      "text/latex": [
       "A matrix: 3 × 1 of type dbl\n",
       "\\begin{tabular}{r|l}\n",
       "\t1 &  290.40\\\\\n",
       "\tX1 & 2796.89\\\\\n",
       "\tX2 & 3568.95\\\\\n",
       "\\end{tabular}\n"
      ],
      "text/markdown": [
       "\n",
       "A matrix: 3 × 1 of type dbl\n",
       "\n",
       "| 1 |  290.40 |\n",
       "| X1 | 2796.89 |\n",
       "| X2 | 3568.95 |\n",
       "\n"
      ],
      "text/plain": [
       "   [,1]   \n",
       "1   290.40\n",
       "X1 2796.89\n",
       "X2 3568.95"
      ]
     },
     "metadata": {},
     "output_type": "display_data"
    }
   ],
   "source": [
    "XTY <- t(X) %*% Y\n",
    "XTY"
   ]
  },
  {
   "cell_type": "code",
   "execution_count": 12,
   "id": "b65feb05",
   "metadata": {},
   "outputs": [
    {
     "data": {
      "text/html": [
       "<table class=\"dataframe\">\n",
       "<caption>A matrix: 3 × 1 of type dbl</caption>\n",
       "<tbody>\n",
       "\t<tr><th scope=row>1</th><td>0.8504051</td></tr>\n",
       "\t<tr><th scope=row>X1</th><td>1.5581063</td></tr>\n",
       "\t<tr><th scope=row>X2</th><td>0.4273559</td></tr>\n",
       "</tbody>\n",
       "</table>\n"
      ],
      "text/latex": [
       "A matrix: 3 × 1 of type dbl\n",
       "\\begin{tabular}{r|l}\n",
       "\t1 & 0.8504051\\\\\n",
       "\tX1 & 1.5581063\\\\\n",
       "\tX2 & 0.4273559\\\\\n",
       "\\end{tabular}\n"
      ],
      "text/markdown": [
       "\n",
       "A matrix: 3 × 1 of type dbl\n",
       "\n",
       "| 1 | 0.8504051 |\n",
       "| X1 | 1.5581063 |\n",
       "| X2 | 0.4273559 |\n",
       "\n"
      ],
      "text/plain": [
       "   [,1]     \n",
       "1  0.8504051\n",
       "X1 1.5581063\n",
       "X2 0.4273559"
      ]
     },
     "metadata": {},
     "output_type": "display_data"
    }
   ],
   "source": [
    "beta <- XTXI %*% XTY\n",
    "beta"
   ]
  },
  {
   "cell_type": "code",
   "execution_count": 13,
   "id": "013c834c",
   "metadata": {},
   "outputs": [
    {
     "data": {
      "text/html": [
       "<table class=\"dataframe\">\n",
       "<caption>A matrix: 3 × 1 of type dbl</caption>\n",
       "<tbody>\n",
       "\t<tr><th scope=row>1</th><td>0.850</td></tr>\n",
       "\t<tr><th scope=row>X1</th><td>1.558</td></tr>\n",
       "\t<tr><th scope=row>X2</th><td>0.427</td></tr>\n",
       "</tbody>\n",
       "</table>\n"
      ],
      "text/latex": [
       "A matrix: 3 × 1 of type dbl\n",
       "\\begin{tabular}{r|l}\n",
       "\t1 & 0.850\\\\\n",
       "\tX1 & 1.558\\\\\n",
       "\tX2 & 0.427\\\\\n",
       "\\end{tabular}\n"
      ],
      "text/markdown": [
       "\n",
       "A matrix: 3 × 1 of type dbl\n",
       "\n",
       "| 1 | 0.850 |\n",
       "| X1 | 1.558 |\n",
       "| X2 | 0.427 |\n",
       "\n"
      ],
      "text/plain": [
       "   [,1] \n",
       "1  0.850\n",
       "X1 1.558\n",
       "X2 0.427"
      ]
     },
     "metadata": {},
     "output_type": "display_data"
    }
   ],
   "source": [
    "beta <- round(beta, 3)\n",
    "beta"
   ]
  },
  {
   "cell_type": "code",
   "execution_count": null,
   "id": "75c34b55",
   "metadata": {},
   "outputs": [],
   "source": []
  }
 ],
 "metadata": {
  "kernelspec": {
   "display_name": "R",
   "language": "R",
   "name": "ir"
  },
  "language_info": {
   "codemirror_mode": "r",
   "file_extension": ".r",
   "mimetype": "text/x-r-source",
   "name": "R",
   "pygments_lexer": "r",
   "version": "4.0.3"
  }
 },
 "nbformat": 4,
 "nbformat_minor": 5
}
