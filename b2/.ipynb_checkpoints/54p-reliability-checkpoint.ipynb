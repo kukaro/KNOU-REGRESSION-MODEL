{
 "cells": [
  {
   "cell_type": "code",
   "execution_count": 1,
   "id": "bf6a99f8",
   "metadata": {},
   "outputs": [
    {
     "data": {
      "text/html": [
       "<table class=\"dataframe\">\n",
       "<caption>A matrix: 4 × 15 of type dbl</caption>\n",
       "<tbody>\n",
       "\t<tr><th scope=row>ID</th><td>1.0</td><td> 2.0</td><td> 3.0</td><td> 4.0</td><td> 5.0</td><td> 6.0</td><td> 7.0</td><td> 8.0</td><td> 9.0</td><td>10.0</td><td>11.0</td><td>12.0</td><td>13.0</td><td>14.0</td><td>15.0</td></tr>\n",
       "\t<tr><th scope=row>X1</th><td>4.2</td><td> 8.5</td><td> 9.3</td><td> 7.5</td><td> 6.3</td><td>12.2</td><td> 6.5</td><td>10.4</td><td> 5.8</td><td> 9.2</td><td> 7.2</td><td> 8.5</td><td>10.6</td><td>13.9</td><td>12.7</td></tr>\n",
       "\t<tr><th scope=row>X2</th><td>4.5</td><td>12.0</td><td>15.0</td><td> 8.5</td><td> 7.4</td><td>18.5</td><td> 5.5</td><td>16.5</td><td> 3.7</td><td>13.5</td><td> 5.2</td><td>15.0</td><td>14.4</td><td>13.3</td><td>12.5</td></tr>\n",
       "\t<tr><th scope=row>Y</th><td>9.3</td><td>18.5</td><td>22.8</td><td>17.7</td><td>14.6</td><td>27.9</td><td>12.5</td><td>25.2</td><td>10.8</td><td>20.5</td><td>14.9</td><td>19.2</td><td>22.5</td><td>28.4</td><td>25.6</td></tr>\n",
       "</tbody>\n",
       "</table>\n"
      ],
      "text/latex": [
       "A matrix: 4 × 15 of type dbl\n",
       "\\begin{tabular}{r|lllllllllllllll}\n",
       "\tID & 1.0 &  2.0 &  3.0 &  4.0 &  5.0 &  6.0 &  7.0 &  8.0 &  9.0 & 10.0 & 11.0 & 12.0 & 13.0 & 14.0 & 15.0\\\\\n",
       "\tX1 & 4.2 &  8.5 &  9.3 &  7.5 &  6.3 & 12.2 &  6.5 & 10.4 &  5.8 &  9.2 &  7.2 &  8.5 & 10.6 & 13.9 & 12.7\\\\\n",
       "\tX2 & 4.5 & 12.0 & 15.0 &  8.5 &  7.4 & 18.5 &  5.5 & 16.5 &  3.7 & 13.5 &  5.2 & 15.0 & 14.4 & 13.3 & 12.5\\\\\n",
       "\tY & 9.3 & 18.5 & 22.8 & 17.7 & 14.6 & 27.9 & 12.5 & 25.2 & 10.8 & 20.5 & 14.9 & 19.2 & 22.5 & 28.4 & 25.6\\\\\n",
       "\\end{tabular}\n"
      ],
      "text/markdown": [
       "\n",
       "A matrix: 4 × 15 of type dbl\n",
       "\n",
       "| ID | 1.0 |  2.0 |  3.0 |  4.0 |  5.0 |  6.0 |  7.0 |  8.0 |  9.0 | 10.0 | 11.0 | 12.0 | 13.0 | 14.0 | 15.0 |\n",
       "| X1 | 4.2 |  8.5 |  9.3 |  7.5 |  6.3 | 12.2 |  6.5 | 10.4 |  5.8 |  9.2 |  7.2 |  8.5 | 10.6 | 13.9 | 12.7 |\n",
       "| X2 | 4.5 | 12.0 | 15.0 |  8.5 |  7.4 | 18.5 |  5.5 | 16.5 |  3.7 | 13.5 |  5.2 | 15.0 | 14.4 | 13.3 | 12.5 |\n",
       "| Y | 9.3 | 18.5 | 22.8 | 17.7 | 14.6 | 27.9 | 12.5 | 25.2 | 10.8 | 20.5 | 14.9 | 19.2 | 22.5 | 28.4 | 25.6 |\n",
       "\n"
      ],
      "text/plain": [
       "   [,1] [,2] [,3] [,4] [,5] [,6] [,7] [,8] [,9] [,10] [,11] [,12] [,13] [,14]\n",
       "ID 1.0   2.0  3.0  4.0  5.0  6.0  7.0  8.0  9.0 10.0  11.0  12.0  13.0  14.0 \n",
       "X1 4.2   8.5  9.3  7.5  6.3 12.2  6.5 10.4  5.8  9.2   7.2   8.5  10.6  13.9 \n",
       "X2 4.5  12.0 15.0  8.5  7.4 18.5  5.5 16.5  3.7 13.5   5.2  15.0  14.4  13.3 \n",
       "Y  9.3  18.5 22.8 17.7 14.6 27.9 12.5 25.2 10.8 20.5  14.9  19.2  22.5  28.4 \n",
       "   [,15]\n",
       "ID 15.0 \n",
       "X1 12.7 \n",
       "X2 12.5 \n",
       "Y  25.6 "
      ]
     },
     "metadata": {},
     "output_type": "display_data"
    }
   ],
   "source": [
    "market2 <- read.table('../reg2020/market-2.txt',header=T)\n",
    "t(market2)"
   ]
  },
  {
   "cell_type": "code",
   "execution_count": 2,
   "id": "58748aa7",
   "metadata": {},
   "outputs": [
    {
     "data": {
      "text/plain": [
       "\n",
       "Call:\n",
       "lm(formula = Y ~ X1 + X2, data = market2)\n",
       "\n",
       "Coefficients:\n",
       "(Intercept)           X1           X2  \n",
       "     0.8504       1.5581       0.4274  \n"
      ]
     },
     "metadata": {},
     "output_type": "display_data"
    }
   ],
   "source": [
    "market2.lm <- lm(Y ~ X1 + X2, data=market2)\n",
    "market2.lm"
   ]
  },
  {
   "cell_type": "code",
   "execution_count": 3,
   "id": "1e5e3dfb",
   "metadata": {},
   "outputs": [
    {
     "data": {
      "text/plain": [
       "\n",
       "Call:\n",
       "lm(formula = Y ~ X1 + X2, data = market2)\n",
       "\n",
       "Residuals:\n",
       "     Min       1Q   Median       3Q      Max \n",
       "-1.30465 -0.69561 -0.01755  0.69003  1.53127 \n",
       "\n",
       "Coefficients:\n",
       "            Estimate Std. Error t value Pr(>|t|)    \n",
       "(Intercept)  0.85041    0.84624   1.005 0.334770    \n",
       "X1           1.55811    0.14793  10.532 2.04e-07 ***\n",
       "X2           0.42736    0.08431   5.069 0.000276 ***\n",
       "---\n",
       "Signif. codes:  0 ‘***’ 0.001 ‘**’ 0.01 ‘*’ 0.05 ‘.’ 0.1 ‘ ’ 1\n",
       "\n",
       "Residual standard error: 0.9318 on 12 degrees of freedom\n",
       "Multiple R-squared:  0.9799,\tAdjusted R-squared:  0.9765 \n",
       "F-statistic: 292.5 on 2 and 12 DF,  p-value: 6.597e-11\n"
      ]
     },
     "metadata": {},
     "output_type": "display_data"
    }
   ],
   "source": [
    "market2.lm.summary <- summary(market2.lm)\n",
    "market2.lm.summary"
   ]
  },
  {
   "cell_type": "code",
   "execution_count": 4,
   "id": "095eb0f1",
   "metadata": {},
   "outputs": [
    {
     "data": {
      "text/html": [
       "292.48668222701"
      ],
      "text/latex": [
       "292.48668222701"
      ],
      "text/markdown": [
       "292.48668222701"
      ],
      "text/plain": [
       "[1] 292.4867"
      ]
     },
     "metadata": {},
     "output_type": "display_data"
    },
    {
     "data": {
      "text/html": [
       "3.88529383465239"
      ],
      "text/latex": [
       "3.88529383465239"
      ],
      "text/markdown": [
       "3.88529383465239"
      ],
      "text/plain": [
       "[1] 3.885294"
      ]
     },
     "metadata": {},
     "output_type": "display_data"
    },
    {
     "data": {
      "text/html": [
       "TRUE"
      ],
      "text/latex": [
       "TRUE"
      ],
      "text/markdown": [
       "TRUE"
      ],
      "text/plain": [
       "[1] TRUE"
      ]
     },
     "metadata": {},
     "output_type": "display_data"
    }
   ],
   "source": [
    "f.score <- market2.lm.summary$fstatistic[['value']]\n",
    "f.score\n",
    "\n",
    "critical.region <- qf(0.95, 2, 12)\n",
    "critical.region\n",
    "\n",
    "f.score > critical.region"
   ]
  },
  {
   "cell_type": "code",
   "execution_count": 5,
   "id": "9b0db83e",
   "metadata": {},
   "outputs": [
    {
     "data": {
      "text/html": [
       "<table class=\"dataframe\">\n",
       "<caption>A anova: 3 × 5</caption>\n",
       "<thead>\n",
       "\t<tr><th></th><th scope=col>Df</th><th scope=col>Sum Sq</th><th scope=col>Mean Sq</th><th scope=col>F value</th><th scope=col>Pr(&gt;F)</th></tr>\n",
       "\t<tr><th></th><th scope=col>&lt;int&gt;</th><th scope=col>&lt;dbl&gt;</th><th scope=col>&lt;dbl&gt;</th><th scope=col>&lt;dbl&gt;</th><th scope=col>&lt;dbl&gt;</th></tr>\n",
       "</thead>\n",
       "<tbody>\n",
       "\t<tr><th scope=row>X1</th><td> 1</td><td>485.57264</td><td>485.5726378</td><td>559.28259</td><td>1.955420e-11</td></tr>\n",
       "\t<tr><th scope=row>X2</th><td> 1</td><td> 22.30489</td><td> 22.3048873</td><td> 25.69077</td><td>2.758327e-04</td></tr>\n",
       "\t<tr><th scope=row>Residuals</th><td>12</td><td> 10.41847</td><td>  0.8682062</td><td>       NA</td><td>          NA</td></tr>\n",
       "</tbody>\n",
       "</table>\n"
      ],
      "text/latex": [
       "A anova: 3 × 5\n",
       "\\begin{tabular}{r|lllll}\n",
       "  & Df & Sum Sq & Mean Sq & F value & Pr(>F)\\\\\n",
       "  & <int> & <dbl> & <dbl> & <dbl> & <dbl>\\\\\n",
       "\\hline\n",
       "\tX1 &  1 & 485.57264 & 485.5726378 & 559.28259 & 1.955420e-11\\\\\n",
       "\tX2 &  1 &  22.30489 &  22.3048873 &  25.69077 & 2.758327e-04\\\\\n",
       "\tResiduals & 12 &  10.41847 &   0.8682062 &        NA &           NA\\\\\n",
       "\\end{tabular}\n"
      ],
      "text/markdown": [
       "\n",
       "A anova: 3 × 5\n",
       "\n",
       "| <!--/--> | Df &lt;int&gt; | Sum Sq &lt;dbl&gt; | Mean Sq &lt;dbl&gt; | F value &lt;dbl&gt; | Pr(&gt;F) &lt;dbl&gt; |\n",
       "|---|---|---|---|---|---|\n",
       "| X1 |  1 | 485.57264 | 485.5726378 | 559.28259 | 1.955420e-11 |\n",
       "| X2 |  1 |  22.30489 |  22.3048873 |  25.69077 | 2.758327e-04 |\n",
       "| Residuals | 12 |  10.41847 |   0.8682062 |        NA |           NA |\n",
       "\n"
      ],
      "text/plain": [
       "          Df Sum Sq    Mean Sq     F value   Pr(>F)      \n",
       "X1         1 485.57264 485.5726378 559.28259 1.955420e-11\n",
       "X2         1  22.30489  22.3048873  25.69077 2.758327e-04\n",
       "Residuals 12  10.41847   0.8682062        NA           NA"
      ]
     },
     "metadata": {},
     "output_type": "display_data"
    }
   ],
   "source": [
    "market2.lm.anova <- anova(market2.lm)\n",
    "market2.lm.anova"
   ]
  },
  {
   "cell_type": "code",
   "execution_count": null,
   "id": "484e0eb2",
   "metadata": {},
   "outputs": [],
   "source": []
  }
 ],
 "metadata": {
  "kernelspec": {
   "display_name": "R",
   "language": "R",
   "name": "ir"
  },
  "language_info": {
   "codemirror_mode": "r",
   "file_extension": ".r",
   "mimetype": "text/x-r-source",
   "name": "R",
   "pygments_lexer": "r",
   "version": "4.0.3"
  }
 },
 "nbformat": 4,
 "nbformat_minor": 5
}
