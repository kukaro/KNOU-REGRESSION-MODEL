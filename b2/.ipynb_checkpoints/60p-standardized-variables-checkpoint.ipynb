{
 "cells": [
  {
   "cell_type": "code",
   "execution_count": 1,
   "id": "d31b5553",
   "metadata": {},
   "outputs": [
    {
     "name": "stdout",
     "output_type": "stream",
     "text": [
      "\n",
      "The downloaded binary packages are in\n",
      "\t/var/folders/0_/y0b7zrj14qv5x4wwd1wmzpj80000gn/T//RtmpVG0mWp/downloaded_packages\n"
     ]
    }
   ],
   "source": [
    "# install.packages('lm.beta')"
   ]
  },
  {
   "cell_type": "code",
   "execution_count": 2,
   "id": "244be602",
   "metadata": {},
   "outputs": [],
   "source": [
    "library(lm.beta)"
   ]
  },
  {
   "cell_type": "code",
   "execution_count": 3,
   "id": "1aee9d35",
   "metadata": {},
   "outputs": [
    {
     "data": {
      "text/html": [
       "<table class=\"dataframe\">\n",
       "<caption>A matrix: 4 × 15 of type dbl</caption>\n",
       "<tbody>\n",
       "\t<tr><th scope=row>ID</th><td>1.0</td><td> 2.0</td><td> 3.0</td><td> 4.0</td><td> 5.0</td><td> 6.0</td><td> 7.0</td><td> 8.0</td><td> 9.0</td><td>10.0</td><td>11.0</td><td>12.0</td><td>13.0</td><td>14.0</td><td>15.0</td></tr>\n",
       "\t<tr><th scope=row>X1</th><td>4.2</td><td> 8.5</td><td> 9.3</td><td> 7.5</td><td> 6.3</td><td>12.2</td><td> 6.5</td><td>10.4</td><td> 5.8</td><td> 9.2</td><td> 7.2</td><td> 8.5</td><td>10.6</td><td>13.9</td><td>12.7</td></tr>\n",
       "\t<tr><th scope=row>X2</th><td>4.5</td><td>12.0</td><td>15.0</td><td> 8.5</td><td> 7.4</td><td>18.5</td><td> 5.5</td><td>16.5</td><td> 3.7</td><td>13.5</td><td> 5.2</td><td>15.0</td><td>14.4</td><td>13.3</td><td>12.5</td></tr>\n",
       "\t<tr><th scope=row>Y</th><td>9.3</td><td>18.5</td><td>22.8</td><td>17.7</td><td>14.6</td><td>27.9</td><td>12.5</td><td>25.2</td><td>10.8</td><td>20.5</td><td>14.9</td><td>19.2</td><td>22.5</td><td>28.4</td><td>25.6</td></tr>\n",
       "</tbody>\n",
       "</table>\n"
      ],
      "text/latex": [
       "A matrix: 4 × 15 of type dbl\n",
       "\\begin{tabular}{r|lllllllllllllll}\n",
       "\tID & 1.0 &  2.0 &  3.0 &  4.0 &  5.0 &  6.0 &  7.0 &  8.0 &  9.0 & 10.0 & 11.0 & 12.0 & 13.0 & 14.0 & 15.0\\\\\n",
       "\tX1 & 4.2 &  8.5 &  9.3 &  7.5 &  6.3 & 12.2 &  6.5 & 10.4 &  5.8 &  9.2 &  7.2 &  8.5 & 10.6 & 13.9 & 12.7\\\\\n",
       "\tX2 & 4.5 & 12.0 & 15.0 &  8.5 &  7.4 & 18.5 &  5.5 & 16.5 &  3.7 & 13.5 &  5.2 & 15.0 & 14.4 & 13.3 & 12.5\\\\\n",
       "\tY & 9.3 & 18.5 & 22.8 & 17.7 & 14.6 & 27.9 & 12.5 & 25.2 & 10.8 & 20.5 & 14.9 & 19.2 & 22.5 & 28.4 & 25.6\\\\\n",
       "\\end{tabular}\n"
      ],
      "text/markdown": [
       "\n",
       "A matrix: 4 × 15 of type dbl\n",
       "\n",
       "| ID | 1.0 |  2.0 |  3.0 |  4.0 |  5.0 |  6.0 |  7.0 |  8.0 |  9.0 | 10.0 | 11.0 | 12.0 | 13.0 | 14.0 | 15.0 |\n",
       "| X1 | 4.2 |  8.5 |  9.3 |  7.5 |  6.3 | 12.2 |  6.5 | 10.4 |  5.8 |  9.2 |  7.2 |  8.5 | 10.6 | 13.9 | 12.7 |\n",
       "| X2 | 4.5 | 12.0 | 15.0 |  8.5 |  7.4 | 18.5 |  5.5 | 16.5 |  3.7 | 13.5 |  5.2 | 15.0 | 14.4 | 13.3 | 12.5 |\n",
       "| Y | 9.3 | 18.5 | 22.8 | 17.7 | 14.6 | 27.9 | 12.5 | 25.2 | 10.8 | 20.5 | 14.9 | 19.2 | 22.5 | 28.4 | 25.6 |\n",
       "\n"
      ],
      "text/plain": [
       "   [,1] [,2] [,3] [,4] [,5] [,6] [,7] [,8] [,9] [,10] [,11] [,12] [,13] [,14]\n",
       "ID 1.0   2.0  3.0  4.0  5.0  6.0  7.0  8.0  9.0 10.0  11.0  12.0  13.0  14.0 \n",
       "X1 4.2   8.5  9.3  7.5  6.3 12.2  6.5 10.4  5.8  9.2   7.2   8.5  10.6  13.9 \n",
       "X2 4.5  12.0 15.0  8.5  7.4 18.5  5.5 16.5  3.7 13.5   5.2  15.0  14.4  13.3 \n",
       "Y  9.3  18.5 22.8 17.7 14.6 27.9 12.5 25.2 10.8 20.5  14.9  19.2  22.5  28.4 \n",
       "   [,15]\n",
       "ID 15.0 \n",
       "X1 12.7 \n",
       "X2 12.5 \n",
       "Y  25.6 "
      ]
     },
     "metadata": {},
     "output_type": "display_data"
    }
   ],
   "source": [
    "market2 <- read.table('../reg2020/market-2.txt',header=T)\n",
    "t(market2)"
   ]
  },
  {
   "cell_type": "code",
   "execution_count": 4,
   "id": "2179dc08",
   "metadata": {},
   "outputs": [
    {
     "data": {
      "text/plain": [
       "\n",
       "Call:\n",
       "lm(formula = Y ~ X1 + X2, data = market2)\n",
       "\n",
       "Coefficients:\n",
       "(Intercept)           X1           X2  \n",
       "     0.8504       1.5581       0.4274  \n"
      ]
     },
     "metadata": {},
     "output_type": "display_data"
    }
   ],
   "source": [
    "market2.lm <- lm(Y ~ X1 + X2, data=market2)\n",
    "market2.lm"
   ]
  },
  {
   "cell_type": "code",
   "execution_count": 7,
   "id": "6dbe7e6c",
   "metadata": {},
   "outputs": [
    {
     "data": {
      "text/plain": [
       "\n",
       "Call:\n",
       "lm(formula = Y ~ X1 + X2, data = market2)\n",
       "\n",
       "Standardized Coefficients::\n",
       "(Intercept)          X1          X2 \n",
       "  0.0000000   0.7015566   0.3376137 \n"
      ]
     },
     "metadata": {},
     "output_type": "display_data"
    }
   ],
   "source": [
    "market2.lm.beta <- lm.beta(market2.lm)\n",
    "market2.lm.beta"
   ]
  },
  {
   "cell_type": "code",
   "execution_count": 11,
   "id": "344be52d",
   "metadata": {},
   "outputs": [
    {
     "data": {
      "text/html": [
       "<style>\n",
       ".dl-inline {width: auto; margin:0; padding: 0}\n",
       ".dl-inline>dt, .dl-inline>dd {float: none; width: auto; display: inline-block}\n",
       ".dl-inline>dt::after {content: \":\\0020\"; padding-right: .5ex}\n",
       ".dl-inline>dt:not(:first-of-type) {padding-left: .5ex}\n",
       "</style><dl class=dl-inline><dt>(Intercept)</dt><dd>0</dd><dt>X1</dt><dd>0.701556554046836</dd><dt>X2</dt><dd>0.337613671474695</dd></dl>\n"
      ],
      "text/latex": [
       "\\begin{description*}\n",
       "\\item[(Intercept)] 0\n",
       "\\item[X1] 0.701556554046836\n",
       "\\item[X2] 0.337613671474695\n",
       "\\end{description*}\n"
      ],
      "text/markdown": [
       "(Intercept)\n",
       ":   0X1\n",
       ":   0.701556554046836X2\n",
       ":   0.337613671474695\n",
       "\n"
      ],
      "text/plain": [
       "(Intercept)          X1          X2 \n",
       "  0.0000000   0.7015566   0.3376137 "
      ]
     },
     "metadata": {},
     "output_type": "display_data"
    },
    {
     "data": {
      "text/html": [
       "<style>\n",
       ".dl-inline {width: auto; margin:0; padding: 0}\n",
       ".dl-inline>dt, .dl-inline>dd {float: none; width: auto; display: inline-block}\n",
       ".dl-inline>dt::after {content: \":\\0020\"; padding-right: .5ex}\n",
       ".dl-inline>dt:not(:first-of-type) {padding-left: .5ex}\n",
       "</style><dl class=dl-inline><dt>(Intercept)</dt><dd>0</dd><dt>X1</dt><dd>0.701556554046836</dd><dt>X2</dt><dd>0.337613671474695</dd></dl>\n"
      ],
      "text/latex": [
       "\\begin{description*}\n",
       "\\item[(Intercept)] 0\n",
       "\\item[X1] 0.701556554046836\n",
       "\\item[X2] 0.337613671474695\n",
       "\\end{description*}\n"
      ],
      "text/markdown": [
       "(Intercept)\n",
       ":   0X1\n",
       ":   0.701556554046836X2\n",
       ":   0.337613671474695\n",
       "\n"
      ],
      "text/plain": [
       "(Intercept)          X1          X2 \n",
       "  0.0000000   0.7015566   0.3376137 "
      ]
     },
     "metadata": {},
     "output_type": "display_data"
    }
   ],
   "source": [
    "market2.lm.beta$standardized.coefficients\n",
    "coef(market2.lm.beta)"
   ]
  },
  {
   "cell_type": "code",
   "execution_count": 12,
   "id": "675b11d5",
   "metadata": {},
   "outputs": [
    {
     "data": {
      "text/plain": [
       "\n",
       "Call:\n",
       "lm(formula = Y ~ X1 + X2, data = market2)\n",
       "\n",
       "Residuals:\n",
       "     Min       1Q   Median       3Q      Max \n",
       "-1.30465 -0.69561 -0.01755  0.69003  1.53127 \n",
       "\n",
       "Coefficients:\n",
       "            Estimate Standardized Std. Error t value Pr(>|t|)    \n",
       "(Intercept)  0.85041      0.00000    0.84624   1.005 0.334770    \n",
       "X1           1.55811      0.70156    0.14793  10.532 2.04e-07 ***\n",
       "X2           0.42736      0.33761    0.08431   5.069 0.000276 ***\n",
       "---\n",
       "Signif. codes:  0 ‘***’ 0.001 ‘**’ 0.01 ‘*’ 0.05 ‘.’ 0.1 ‘ ’ 1\n",
       "\n",
       "Residual standard error: 0.9318 on 12 degrees of freedom\n",
       "Multiple R-squared:  0.9799,\tAdjusted R-squared:  0.9765 \n",
       "F-statistic: 292.5 on 2 and 12 DF,  p-value: 6.597e-11\n"
      ]
     },
     "metadata": {},
     "output_type": "display_data"
    }
   ],
   "source": [
    "market2.lm.beta.summary <- summary(market2.lm.beta)\n",
    "market2.lm.beta.summary"
   ]
  },
  {
   "cell_type": "code",
   "execution_count": null,
   "id": "5f025739",
   "metadata": {},
   "outputs": [],
   "source": []
  }
 ],
 "metadata": {
  "kernelspec": {
   "display_name": "R",
   "language": "R",
   "name": "ir"
  },
  "language_info": {
   "codemirror_mode": "r",
   "file_extension": ".r",
   "mimetype": "text/x-r-source",
   "name": "R",
   "pygments_lexer": "r",
   "version": "4.0.3"
  }
 },
 "nbformat": 4,
 "nbformat_minor": 5
}
