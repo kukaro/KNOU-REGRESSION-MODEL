{
 "cells": [
  {
   "cell_type": "code",
   "execution_count": 1,
   "id": "760dd27f",
   "metadata": {},
   "outputs": [
    {
     "data": {
      "text/html": [
       "<table class=\"dataframe\">\n",
       "<caption>A matrix: 4 × 15 of type dbl</caption>\n",
       "<tbody>\n",
       "\t<tr><th scope=row>ID</th><td>1.0</td><td> 2.0</td><td> 3.0</td><td> 4.0</td><td> 5.0</td><td> 6.0</td><td> 7.0</td><td> 8.0</td><td> 9.0</td><td>10.0</td><td>11.0</td><td>12.0</td><td>13.0</td><td>14.0</td><td>15.0</td></tr>\n",
       "\t<tr><th scope=row>X1</th><td>4.2</td><td> 8.5</td><td> 9.3</td><td> 7.5</td><td> 6.3</td><td>12.2</td><td> 6.5</td><td>10.4</td><td> 5.8</td><td> 9.2</td><td> 7.2</td><td> 8.5</td><td>10.6</td><td>13.9</td><td>12.7</td></tr>\n",
       "\t<tr><th scope=row>X2</th><td>4.5</td><td>12.0</td><td>15.0</td><td> 8.5</td><td> 7.4</td><td>18.5</td><td> 5.5</td><td>16.5</td><td> 3.7</td><td>13.5</td><td> 5.2</td><td>15.0</td><td>14.4</td><td>13.3</td><td>12.5</td></tr>\n",
       "\t<tr><th scope=row>Y</th><td>9.3</td><td>18.5</td><td>22.8</td><td>17.7</td><td>14.6</td><td>27.9</td><td>12.5</td><td>25.2</td><td>10.8</td><td>20.5</td><td>14.9</td><td>19.2</td><td>22.5</td><td>28.4</td><td>25.6</td></tr>\n",
       "</tbody>\n",
       "</table>\n"
      ],
      "text/latex": [
       "A matrix: 4 × 15 of type dbl\n",
       "\\begin{tabular}{r|lllllllllllllll}\n",
       "\tID & 1.0 &  2.0 &  3.0 &  4.0 &  5.0 &  6.0 &  7.0 &  8.0 &  9.0 & 10.0 & 11.0 & 12.0 & 13.0 & 14.0 & 15.0\\\\\n",
       "\tX1 & 4.2 &  8.5 &  9.3 &  7.5 &  6.3 & 12.2 &  6.5 & 10.4 &  5.8 &  9.2 &  7.2 &  8.5 & 10.6 & 13.9 & 12.7\\\\\n",
       "\tX2 & 4.5 & 12.0 & 15.0 &  8.5 &  7.4 & 18.5 &  5.5 & 16.5 &  3.7 & 13.5 &  5.2 & 15.0 & 14.4 & 13.3 & 12.5\\\\\n",
       "\tY & 9.3 & 18.5 & 22.8 & 17.7 & 14.6 & 27.9 & 12.5 & 25.2 & 10.8 & 20.5 & 14.9 & 19.2 & 22.5 & 28.4 & 25.6\\\\\n",
       "\\end{tabular}\n"
      ],
      "text/markdown": [
       "\n",
       "A matrix: 4 × 15 of type dbl\n",
       "\n",
       "| ID | 1.0 |  2.0 |  3.0 |  4.0 |  5.0 |  6.0 |  7.0 |  8.0 |  9.0 | 10.0 | 11.0 | 12.0 | 13.0 | 14.0 | 15.0 |\n",
       "| X1 | 4.2 |  8.5 |  9.3 |  7.5 |  6.3 | 12.2 |  6.5 | 10.4 |  5.8 |  9.2 |  7.2 |  8.5 | 10.6 | 13.9 | 12.7 |\n",
       "| X2 | 4.5 | 12.0 | 15.0 |  8.5 |  7.4 | 18.5 |  5.5 | 16.5 |  3.7 | 13.5 |  5.2 | 15.0 | 14.4 | 13.3 | 12.5 |\n",
       "| Y | 9.3 | 18.5 | 22.8 | 17.7 | 14.6 | 27.9 | 12.5 | 25.2 | 10.8 | 20.5 | 14.9 | 19.2 | 22.5 | 28.4 | 25.6 |\n",
       "\n"
      ],
      "text/plain": [
       "   [,1] [,2] [,3] [,4] [,5] [,6] [,7] [,8] [,9] [,10] [,11] [,12] [,13] [,14]\n",
       "ID 1.0   2.0  3.0  4.0  5.0  6.0  7.0  8.0  9.0 10.0  11.0  12.0  13.0  14.0 \n",
       "X1 4.2   8.5  9.3  7.5  6.3 12.2  6.5 10.4  5.8  9.2   7.2   8.5  10.6  13.9 \n",
       "X2 4.5  12.0 15.0  8.5  7.4 18.5  5.5 16.5  3.7 13.5   5.2  15.0  14.4  13.3 \n",
       "Y  9.3  18.5 22.8 17.7 14.6 27.9 12.5 25.2 10.8 20.5  14.9  19.2  22.5  28.4 \n",
       "   [,15]\n",
       "ID 15.0 \n",
       "X1 12.7 \n",
       "X2 12.5 \n",
       "Y  25.6 "
      ]
     },
     "metadata": {},
     "output_type": "display_data"
    }
   ],
   "source": [
    "market2 <- read.table('../reg2020/market-2.txt', header=T)\n",
    "t(market2)"
   ]
  },
  {
   "cell_type": "code",
   "execution_count": 2,
   "id": "f0256cff",
   "metadata": {},
   "outputs": [
    {
     "data": {
      "text/html": [
       "<table class=\"dataframe\">\n",
       "<caption>A matrix: 2 × 1 of type dbl</caption>\n",
       "<tbody>\n",
       "\t<tr><th scope=row>X1</th><td>10</td></tr>\n",
       "\t<tr><th scope=row>X2</th><td>10</td></tr>\n",
       "</tbody>\n",
       "</table>\n"
      ],
      "text/latex": [
       "A matrix: 2 × 1 of type dbl\n",
       "\\begin{tabular}{r|l}\n",
       "\tX1 & 10\\\\\n",
       "\tX2 & 10\\\\\n",
       "\\end{tabular}\n"
      ],
      "text/markdown": [
       "\n",
       "A matrix: 2 × 1 of type dbl\n",
       "\n",
       "| X1 | 10 |\n",
       "| X2 | 10 |\n",
       "\n"
      ],
      "text/plain": [
       "   [,1]\n",
       "X1 10  \n",
       "X2 10  "
      ]
     },
     "metadata": {},
     "output_type": "display_data"
    }
   ],
   "source": [
    "pred.x <- data.frame(X1=10, X2=10)\n",
    "t(pred.x)"
   ]
  },
  {
   "cell_type": "code",
   "execution_count": 3,
   "id": "7b572295",
   "metadata": {},
   "outputs": [
    {
     "data": {
      "text/plain": [
       "\n",
       "Call:\n",
       "lm(formula = Y ~ X1 + X2, data = market2)\n",
       "\n",
       "Coefficients:\n",
       "(Intercept)           X1           X2  \n",
       "     0.8504       1.5581       0.4274  \n"
      ]
     },
     "metadata": {},
     "output_type": "display_data"
    }
   ],
   "source": [
    "market2.lm <- lm(Y ~ X1 + X2, data=market2)\n",
    "market2.lm"
   ]
  },
  {
   "cell_type": "code",
   "execution_count": 4,
   "id": "4cbcac53",
   "metadata": {},
   "outputs": [
    {
     "data": {
      "text/html": [
       "<table class=\"dataframe\">\n",
       "<caption>A matrix: 1 × 3 of type dbl</caption>\n",
       "<thead>\n",
       "\t<tr><th></th><th scope=col>fit</th><th scope=col>lwr</th><th scope=col>upr</th></tr>\n",
       "</thead>\n",
       "<tbody>\n",
       "\t<tr><th scope=row>1</th><td>20.70503</td><td>19.95796</td><td>21.45209</td></tr>\n",
       "</tbody>\n",
       "</table>\n"
      ],
      "text/latex": [
       "A matrix: 1 × 3 of type dbl\n",
       "\\begin{tabular}{r|lll}\n",
       "  & fit & lwr & upr\\\\\n",
       "\\hline\n",
       "\t1 & 20.70503 & 19.95796 & 21.45209\\\\\n",
       "\\end{tabular}\n"
      ],
      "text/markdown": [
       "\n",
       "A matrix: 1 × 3 of type dbl\n",
       "\n",
       "| <!--/--> | fit | lwr | upr |\n",
       "|---|---|---|---|\n",
       "| 1 | 20.70503 | 19.95796 | 21.45209 |\n",
       "\n"
      ],
      "text/plain": [
       "  fit      lwr      upr     \n",
       "1 20.70503 19.95796 21.45209"
      ]
     },
     "metadata": {},
     "output_type": "display_data"
    }
   ],
   "source": [
    "pc <- predict(market2.lm, int='c', newdata=pred.x)\n",
    "pc"
   ]
  },
  {
   "cell_type": "code",
   "execution_count": 5,
   "id": "ee0ba9fd",
   "metadata": {},
   "outputs": [
    {
     "data": {
      "text/html": [
       "<table class=\"dataframe\">\n",
       "<caption>A matrix: 1 × 3 of type dbl</caption>\n",
       "<thead>\n",
       "\t<tr><th></th><th scope=col>fit</th><th scope=col>lwr</th><th scope=col>upr</th></tr>\n",
       "</thead>\n",
       "<tbody>\n",
       "\t<tr><th scope=row>1</th><td>20.70503</td><td>19.65769</td><td>21.75236</td></tr>\n",
       "</tbody>\n",
       "</table>\n"
      ],
      "text/latex": [
       "A matrix: 1 × 3 of type dbl\n",
       "\\begin{tabular}{r|lll}\n",
       "  & fit & lwr & upr\\\\\n",
       "\\hline\n",
       "\t1 & 20.70503 & 19.65769 & 21.75236\\\\\n",
       "\\end{tabular}\n"
      ],
      "text/markdown": [
       "\n",
       "A matrix: 1 × 3 of type dbl\n",
       "\n",
       "| <!--/--> | fit | lwr | upr |\n",
       "|---|---|---|---|\n",
       "| 1 | 20.70503 | 19.65769 | 21.75236 |\n",
       "\n"
      ],
      "text/plain": [
       "  fit      lwr      upr     \n",
       "1 20.70503 19.65769 21.75236"
      ]
     },
     "metadata": {},
     "output_type": "display_data"
    }
   ],
   "source": [
    "pc99 <- predict(market2.lm, int='c', level=0.99, newdata=pred.x)\n",
    "pc99"
   ]
  },
  {
   "cell_type": "code",
   "execution_count": 6,
   "id": "76b5f605",
   "metadata": {},
   "outputs": [
    {
     "data": {
      "text/plain": [
       "\n",
       "Call:\n",
       "lm(formula = Y ~ X1 + X2, data = market2)\n",
       "\n",
       "Residuals:\n",
       "     Min       1Q   Median       3Q      Max \n",
       "-1.30465 -0.69561 -0.01755  0.69003  1.53127 \n",
       "\n",
       "Coefficients:\n",
       "            Estimate Std. Error t value Pr(>|t|)    \n",
       "(Intercept)  0.85041    0.84624   1.005 0.334770    \n",
       "X1           1.55811    0.14793  10.532 2.04e-07 ***\n",
       "X2           0.42736    0.08431   5.069 0.000276 ***\n",
       "---\n",
       "Signif. codes:  0 ‘***’ 0.001 ‘**’ 0.01 ‘*’ 0.05 ‘.’ 0.1 ‘ ’ 1\n",
       "\n",
       "Residual standard error: 0.9318 on 12 degrees of freedom\n",
       "Multiple R-squared:  0.9799,\tAdjusted R-squared:  0.9765 \n",
       "F-statistic: 292.5 on 2 and 12 DF,  p-value: 6.597e-11\n"
      ]
     },
     "metadata": {},
     "output_type": "display_data"
    }
   ],
   "source": [
    "market2.lm.summary <- summary(market2.lm)\n",
    "market2.lm.summary"
   ]
  },
  {
   "cell_type": "code",
   "execution_count": null,
   "id": "3cd6506f",
   "metadata": {},
   "outputs": [],
   "source": []
  }
 ],
 "metadata": {
  "kernelspec": {
   "display_name": "R",
   "language": "R",
   "name": "ir"
  },
  "language_info": {
   "codemirror_mode": "r",
   "file_extension": ".r",
   "mimetype": "text/x-r-source",
   "name": "R",
   "pygments_lexer": "r",
   "version": "4.0.3"
  }
 },
 "nbformat": 4,
 "nbformat_minor": 5
}
