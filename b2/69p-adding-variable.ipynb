{
 "cells": [
  {
   "cell_type": "code",
   "execution_count": 1,
   "id": "ff6225f8",
   "metadata": {},
   "outputs": [
    {
     "data": {
      "text/html": [
       "<table class=\"dataframe\">\n",
       "<caption>A matrix: 6 × 30 of type int</caption>\n",
       "<tbody>\n",
       "\t<tr><th scope=row>ID</th><td>  1</td><td>  2</td><td>  3</td><td>  4</td><td>  5</td><td>  6</td><td>  7</td><td>  8</td><td>  9</td><td> 10</td><td>⋯</td><td> 21</td><td> 22</td><td> 23</td><td> 24</td><td> 25</td><td> 26</td><td> 27</td><td> 28</td><td> 29</td><td> 30</td></tr>\n",
       "\t<tr><th scope=row>X1</th><td>217</td><td>141</td><td>152</td><td>153</td><td>180</td><td>193</td><td>162</td><td>180</td><td>205</td><td>168</td><td>⋯</td><td>161</td><td>132</td><td>257</td><td>236</td><td>149</td><td>161</td><td>198</td><td>245</td><td>141</td><td>177</td></tr>\n",
       "\t<tr><th scope=row>X2</th><td> 67</td><td> 52</td><td> 58</td><td> 56</td><td> 66</td><td> 71</td><td> 65</td><td> 80</td><td> 77</td><td> 74</td><td>⋯</td><td> 52</td><td> 62</td><td> 64</td><td> 72</td><td> 57</td><td> 57</td><td> 59</td><td> 70</td><td> 63</td><td> 53</td></tr>\n",
       "\t<tr><th scope=row>X3</th><td>260</td><td>190</td><td>203</td><td>183</td><td>170</td><td>178</td><td>160</td><td>170</td><td>188</td><td>170</td><td>⋯</td><td>190</td><td>163</td><td>313</td><td>225</td><td>173</td><td>173</td><td>220</td><td>218</td><td>193</td><td>183</td></tr>\n",
       "\t<tr><th scope=row>X4</th><td> 91</td><td> 66</td><td> 68</td><td> 70</td><td> 77</td><td> 82</td><td> 74</td><td> 84</td><td> 83</td><td> 79</td><td>⋯</td><td> 69</td><td> 59</td><td> 96</td><td> 84</td><td> 68</td><td> 65</td><td> 62</td><td> 69</td><td> 60</td><td> 75</td></tr>\n",
       "\t<tr><th scope=row>Y</th><td>481</td><td>292</td><td>338</td><td>357</td><td>396</td><td>429</td><td>345</td><td>469</td><td>425</td><td>358</td><td>⋯</td><td>391</td><td>264</td><td>487</td><td>481</td><td>374</td><td>309</td><td>367</td><td>469</td><td>252</td><td>338</td></tr>\n",
       "</tbody>\n",
       "</table>\n"
      ],
      "text/latex": [
       "A matrix: 6 × 30 of type int\n",
       "\\begin{tabular}{r|lllllllllllllllllllll}\n",
       "\tID &   1 &   2 &   3 &   4 &   5 &   6 &   7 &   8 &   9 &  10 & ⋯ &  21 &  22 &  23 &  24 &  25 &  26 &  27 &  28 &  29 &  30\\\\\n",
       "\tX1 & 217 & 141 & 152 & 153 & 180 & 193 & 162 & 180 & 205 & 168 & ⋯ & 161 & 132 & 257 & 236 & 149 & 161 & 198 & 245 & 141 & 177\\\\\n",
       "\tX2 &  67 &  52 &  58 &  56 &  66 &  71 &  65 &  80 &  77 &  74 & ⋯ &  52 &  62 &  64 &  72 &  57 &  57 &  59 &  70 &  63 &  53\\\\\n",
       "\tX3 & 260 & 190 & 203 & 183 & 170 & 178 & 160 & 170 & 188 & 170 & ⋯ & 190 & 163 & 313 & 225 & 173 & 173 & 220 & 218 & 193 & 183\\\\\n",
       "\tX4 &  91 &  66 &  68 &  70 &  77 &  82 &  74 &  84 &  83 &  79 & ⋯ &  69 &  59 &  96 &  84 &  68 &  65 &  62 &  69 &  60 &  75\\\\\n",
       "\tY & 481 & 292 & 338 & 357 & 396 & 429 & 345 & 469 & 425 & 358 & ⋯ & 391 & 264 & 487 & 481 & 374 & 309 & 367 & 469 & 252 & 338\\\\\n",
       "\\end{tabular}\n"
      ],
      "text/markdown": [
       "\n",
       "A matrix: 6 × 30 of type int\n",
       "\n",
       "| ID |   1 |   2 |   3 |   4 |   5 |   6 |   7 |   8 |   9 |  10 | ⋯ |  21 |  22 |  23 |  24 |  25 |  26 |  27 |  28 |  29 |  30 |\n",
       "| X1 | 217 | 141 | 152 | 153 | 180 | 193 | 162 | 180 | 205 | 168 | ⋯ | 161 | 132 | 257 | 236 | 149 | 161 | 198 | 245 | 141 | 177 |\n",
       "| X2 |  67 |  52 |  58 |  56 |  66 |  71 |  65 |  80 |  77 |  74 | ⋯ |  52 |  62 |  64 |  72 |  57 |  57 |  59 |  70 |  63 |  53 |\n",
       "| X3 | 260 | 190 | 203 | 183 | 170 | 178 | 160 | 170 | 188 | 170 | ⋯ | 190 | 163 | 313 | 225 | 173 | 173 | 220 | 218 | 193 | 183 |\n",
       "| X4 |  91 |  66 |  68 |  70 |  77 |  82 |  74 |  84 |  83 |  79 | ⋯ |  69 |  59 |  96 |  84 |  68 |  65 |  62 |  69 |  60 |  75 |\n",
       "| Y | 481 | 292 | 338 | 357 | 396 | 429 | 345 | 469 | 425 | 358 | ⋯ | 391 | 264 | 487 | 481 | 374 | 309 | 367 | 469 | 252 | 338 |\n",
       "\n"
      ],
      "text/plain": [
       "   [,1] [,2] [,3] [,4] [,5] [,6] [,7] [,8] [,9] [,10] [,11] [,12] [,13] [,14]\n",
       "ID   1    2    3    4    5    6    7    8    9   10   ⋯      21    22    23  \n",
       "X1 217  141  152  153  180  193  162  180  205  168   ⋯     161   132   257  \n",
       "X2  67   52   58   56   66   71   65   80   77   74   ⋯      52    62    64  \n",
       "X3 260  190  203  183  170  178  160  170  188  170   ⋯     190   163   313  \n",
       "X4  91   66   68   70   77   82   74   84   83   79   ⋯      69    59    96  \n",
       "Y  481  292  338  357  396  429  345  469  425  358   ⋯     391   264   487  \n",
       "   [,15] [,16] [,17] [,18] [,19] [,20] [,21]\n",
       "ID  24    25    26    27    28    29    30  \n",
       "X1 236   149   161   198   245   141   177  \n",
       "X2  72    57    57    59    70    63    53  \n",
       "X3 225   173   173   220   218   193   183  \n",
       "X4  84    68    65    62    69    60    75  \n",
       "Y  481   374   309   367   469   252   338  "
      ]
     },
     "metadata": {},
     "output_type": "display_data"
    }
   ],
   "source": [
    "health <- read.table('../reg2020/health.txt', header=T)\n",
    "t(health)"
   ]
  },
  {
   "cell_type": "code",
   "execution_count": 3,
   "id": "57d424a0",
   "metadata": {},
   "outputs": [
    {
     "data": {
      "text/plain": [
       "\n",
       "Call:\n",
       "lm(formula = Y ~ X1, data = health)\n",
       "\n",
       "Coefficients:\n",
       "(Intercept)           X1  \n",
       "     94.606        1.565  \n"
      ]
     },
     "metadata": {},
     "output_type": "display_data"
    }
   ],
   "source": [
    "h1.lm <- lm(Y ~ X1, data=health)\n",
    "h1.lm"
   ]
  },
  {
   "cell_type": "code",
   "execution_count": 4,
   "id": "60e41bbc",
   "metadata": {},
   "outputs": [
    {
     "data": {
      "text/plain": [
       "\n",
       "Call:\n",
       "lm(formula = Y ~ X1 + X4, data = health)\n",
       "\n",
       "Coefficients:\n",
       "(Intercept)           X1           X4  \n",
       "   -63.2274       0.8448       3.9324  \n"
      ]
     },
     "metadata": {},
     "output_type": "display_data"
    }
   ],
   "source": [
    "h2.lm <- lm(Y ~ X1 + X4, data=health)\n",
    "h2.lm"
   ]
  },
  {
   "cell_type": "code",
   "execution_count": 5,
   "id": "c2f89aec",
   "metadata": {},
   "outputs": [
    {
     "data": {
      "text/plain": [
       "\n",
       "Call:\n",
       "lm(formula = Y ~ X1 + X3 + X4, data = health)\n",
       "\n",
       "Coefficients:\n",
       "(Intercept)           X1           X3           X4  \n",
       "   -25.4145       1.2064      -0.4475       3.7374  \n"
      ]
     },
     "metadata": {},
     "output_type": "display_data"
    }
   ],
   "source": [
    "h3.lm <- lm(Y ~ X1 + X3 + X4, data=health)\n",
    "h3.lm"
   ]
  },
  {
   "cell_type": "code",
   "execution_count": 6,
   "id": "d04e3533",
   "metadata": {},
   "outputs": [
    {
     "data": {
      "text/plain": [
       "\n",
       "Call:\n",
       "lm(formula = Y ~ X1 + X2 + X3 + X4, data = health)\n",
       "\n",
       "Coefficients:\n",
       "(Intercept)           X1           X2           X3           X4  \n",
       "    -3.6186       1.2676      -0.5252      -0.5050       3.9030  \n"
      ]
     },
     "metadata": {},
     "output_type": "display_data"
    }
   ],
   "source": [
    "h4.lm <- lm(Y ~ X1 + X2 + X3 + X4, data=health)\n",
    "h4.lm"
   ]
  },
  {
   "cell_type": "code",
   "execution_count": 7,
   "id": "a6946757",
   "metadata": {},
   "outputs": [
    {
     "data": {
      "text/html": [
       "<table class=\"dataframe\">\n",
       "<caption>A anova: 2 × 6</caption>\n",
       "<thead>\n",
       "\t<tr><th></th><th scope=col>Res.Df</th><th scope=col>RSS</th><th scope=col>Df</th><th scope=col>Sum of Sq</th><th scope=col>F</th><th scope=col>Pr(&gt;F)</th></tr>\n",
       "\t<tr><th></th><th scope=col>&lt;dbl&gt;</th><th scope=col>&lt;dbl&gt;</th><th scope=col>&lt;dbl&gt;</th><th scope=col>&lt;dbl&gt;</th><th scope=col>&lt;dbl&gt;</th><th scope=col>&lt;dbl&gt;</th></tr>\n",
       "</thead>\n",
       "<tbody>\n",
       "\t<tr><th scope=row>1</th><td>28</td><td>50795.05</td><td>NA</td><td>      NA</td><td>      NA</td><td>          NA</td></tr>\n",
       "\t<tr><th scope=row>2</th><td>27</td><td>24049.49</td><td> 1</td><td>26745.56</td><td>30.02684</td><td>8.418827e-06</td></tr>\n",
       "</tbody>\n",
       "</table>\n"
      ],
      "text/latex": [
       "A anova: 2 × 6\n",
       "\\begin{tabular}{r|llllll}\n",
       "  & Res.Df & RSS & Df & Sum of Sq & F & Pr(>F)\\\\\n",
       "  & <dbl> & <dbl> & <dbl> & <dbl> & <dbl> & <dbl>\\\\\n",
       "\\hline\n",
       "\t1 & 28 & 50795.05 & NA &       NA &       NA &           NA\\\\\n",
       "\t2 & 27 & 24049.49 &  1 & 26745.56 & 30.02684 & 8.418827e-06\\\\\n",
       "\\end{tabular}\n"
      ],
      "text/markdown": [
       "\n",
       "A anova: 2 × 6\n",
       "\n",
       "| <!--/--> | Res.Df &lt;dbl&gt; | RSS &lt;dbl&gt; | Df &lt;dbl&gt; | Sum of Sq &lt;dbl&gt; | F &lt;dbl&gt; | Pr(&gt;F) &lt;dbl&gt; |\n",
       "|---|---|---|---|---|---|---|\n",
       "| 1 | 28 | 50795.05 | NA |       NA |       NA |           NA |\n",
       "| 2 | 27 | 24049.49 |  1 | 26745.56 | 30.02684 | 8.418827e-06 |\n",
       "\n"
      ],
      "text/plain": [
       "  Res.Df RSS      Df Sum of Sq F        Pr(>F)      \n",
       "1 28     50795.05 NA       NA        NA           NA\n",
       "2 27     24049.49  1 26745.56  30.02684 8.418827e-06"
      ]
     },
     "metadata": {},
     "output_type": "display_data"
    }
   ],
   "source": [
    "anova(h1.lm, h2.lm)"
   ]
  },
  {
   "cell_type": "code",
   "execution_count": 8,
   "id": "aa9334d1",
   "metadata": {},
   "outputs": [
    {
     "data": {
      "text/html": [
       "<table class=\"dataframe\">\n",
       "<caption>A anova: 2 × 6</caption>\n",
       "<thead>\n",
       "\t<tr><th></th><th scope=col>Res.Df</th><th scope=col>RSS</th><th scope=col>Df</th><th scope=col>Sum of Sq</th><th scope=col>F</th><th scope=col>Pr(&gt;F)</th></tr>\n",
       "\t<tr><th></th><th scope=col>&lt;dbl&gt;</th><th scope=col>&lt;dbl&gt;</th><th scope=col>&lt;dbl&gt;</th><th scope=col>&lt;dbl&gt;</th><th scope=col>&lt;dbl&gt;</th><th scope=col>&lt;dbl&gt;</th></tr>\n",
       "</thead>\n",
       "<tbody>\n",
       "\t<tr><th scope=row>1</th><td>27</td><td>24049.49</td><td>NA</td><td>      NA</td><td>      NA</td><td>        NA</td></tr>\n",
       "\t<tr><th scope=row>2</th><td>26</td><td>20855.98</td><td> 1</td><td>3193.511</td><td>3.981174</td><td>0.05658996</td></tr>\n",
       "</tbody>\n",
       "</table>\n"
      ],
      "text/latex": [
       "A anova: 2 × 6\n",
       "\\begin{tabular}{r|llllll}\n",
       "  & Res.Df & RSS & Df & Sum of Sq & F & Pr(>F)\\\\\n",
       "  & <dbl> & <dbl> & <dbl> & <dbl> & <dbl> & <dbl>\\\\\n",
       "\\hline\n",
       "\t1 & 27 & 24049.49 & NA &       NA &       NA &         NA\\\\\n",
       "\t2 & 26 & 20855.98 &  1 & 3193.511 & 3.981174 & 0.05658996\\\\\n",
       "\\end{tabular}\n"
      ],
      "text/markdown": [
       "\n",
       "A anova: 2 × 6\n",
       "\n",
       "| <!--/--> | Res.Df &lt;dbl&gt; | RSS &lt;dbl&gt; | Df &lt;dbl&gt; | Sum of Sq &lt;dbl&gt; | F &lt;dbl&gt; | Pr(&gt;F) &lt;dbl&gt; |\n",
       "|---|---|---|---|---|---|---|\n",
       "| 1 | 27 | 24049.49 | NA |       NA |       NA |         NA |\n",
       "| 2 | 26 | 20855.98 |  1 | 3193.511 | 3.981174 | 0.05658996 |\n",
       "\n"
      ],
      "text/plain": [
       "  Res.Df RSS      Df Sum of Sq F        Pr(>F)    \n",
       "1 27     24049.49 NA       NA        NA         NA\n",
       "2 26     20855.98  1 3193.511  3.981174 0.05658996"
      ]
     },
     "metadata": {},
     "output_type": "display_data"
    }
   ],
   "source": [
    "anova(h2.lm, h3.lm)"
   ]
  },
  {
   "cell_type": "code",
   "execution_count": 9,
   "id": "8cc9f767",
   "metadata": {},
   "outputs": [
    {
     "data": {
      "text/html": [
       "<table class=\"dataframe\">\n",
       "<caption>A anova: 2 × 6</caption>\n",
       "<thead>\n",
       "\t<tr><th></th><th scope=col>Res.Df</th><th scope=col>RSS</th><th scope=col>Df</th><th scope=col>Sum of Sq</th><th scope=col>F</th><th scope=col>Pr(&gt;F)</th></tr>\n",
       "\t<tr><th></th><th scope=col>&lt;dbl&gt;</th><th scope=col>&lt;dbl&gt;</th><th scope=col>&lt;dbl&gt;</th><th scope=col>&lt;dbl&gt;</th><th scope=col>&lt;dbl&gt;</th><th scope=col>&lt;dbl&gt;</th></tr>\n",
       "</thead>\n",
       "<tbody>\n",
       "\t<tr><th scope=row>1</th><td>26</td><td>20855.98</td><td>NA</td><td>      NA</td><td>       NA</td><td>       NA</td></tr>\n",
       "\t<tr><th scope=row>2</th><td>25</td><td>20551.36</td><td> 1</td><td>304.6168</td><td>0.3705555</td><td>0.5481935</td></tr>\n",
       "</tbody>\n",
       "</table>\n"
      ],
      "text/latex": [
       "A anova: 2 × 6\n",
       "\\begin{tabular}{r|llllll}\n",
       "  & Res.Df & RSS & Df & Sum of Sq & F & Pr(>F)\\\\\n",
       "  & <dbl> & <dbl> & <dbl> & <dbl> & <dbl> & <dbl>\\\\\n",
       "\\hline\n",
       "\t1 & 26 & 20855.98 & NA &       NA &        NA &        NA\\\\\n",
       "\t2 & 25 & 20551.36 &  1 & 304.6168 & 0.3705555 & 0.5481935\\\\\n",
       "\\end{tabular}\n"
      ],
      "text/markdown": [
       "\n",
       "A anova: 2 × 6\n",
       "\n",
       "| <!--/--> | Res.Df &lt;dbl&gt; | RSS &lt;dbl&gt; | Df &lt;dbl&gt; | Sum of Sq &lt;dbl&gt; | F &lt;dbl&gt; | Pr(&gt;F) &lt;dbl&gt; |\n",
       "|---|---|---|---|---|---|---|\n",
       "| 1 | 26 | 20855.98 | NA |       NA |        NA |        NA |\n",
       "| 2 | 25 | 20551.36 |  1 | 304.6168 | 0.3705555 | 0.5481935 |\n",
       "\n"
      ],
      "text/plain": [
       "  Res.Df RSS      Df Sum of Sq F         Pr(>F)   \n",
       "1 26     20855.98 NA       NA         NA        NA\n",
       "2 25     20551.36  1 304.6168  0.3705555 0.5481935"
      ]
     },
     "metadata": {},
     "output_type": "display_data"
    }
   ],
   "source": [
    "anova(h3.lm, h4.lm)"
   ]
  },
  {
   "cell_type": "code",
   "execution_count": null,
   "id": "132642c5",
   "metadata": {},
   "outputs": [],
   "source": []
  }
 ],
 "metadata": {
  "kernelspec": {
   "display_name": "R",
   "language": "R",
   "name": "ir"
  },
  "language_info": {
   "codemirror_mode": "r",
   "file_extension": ".r",
   "mimetype": "text/x-r-source",
   "name": "R",
   "pygments_lexer": "r",
   "version": "4.0.3"
  }
 },
 "nbformat": 4,
 "nbformat_minor": 5
}
