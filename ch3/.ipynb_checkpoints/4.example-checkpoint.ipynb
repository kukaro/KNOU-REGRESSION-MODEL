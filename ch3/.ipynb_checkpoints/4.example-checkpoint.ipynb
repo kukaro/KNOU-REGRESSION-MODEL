{
 "cells": [
  {
   "cell_type": "code",
   "execution_count": 1,
   "id": "f605dba3",
   "metadata": {},
   "outputs": [
    {
     "data": {
      "text/html": [
       "<table class=\"dataframe\">\n",
       "<caption>A matrix: 2 × 10 of type dbl</caption>\n",
       "<tbody>\n",
       "\t<tr><th scope=row>price</th><td>6.4</td><td>16.1</td><td>42.1</td><td>2.1</td><td>30.7</td><td>32.1</td><td>7.2</td><td>3.4</td><td>20.8</td><td>1.5</td></tr>\n",
       "\t<tr><th scope=row>time</th><td>1.7</td><td> 2.7</td><td> 4.9</td><td>0.3</td><td> 3.9</td><td> 4.1</td><td>1.2</td><td>0.5</td><td> 3.3</td><td>0.2</td></tr>\n",
       "</tbody>\n",
       "</table>\n"
      ],
      "text/latex": [
       "A matrix: 2 × 10 of type dbl\n",
       "\\begin{tabular}{r|llllllllll}\n",
       "\tprice & 6.4 & 16.1 & 42.1 & 2.1 & 30.7 & 32.1 & 7.2 & 3.4 & 20.8 & 1.5\\\\\n",
       "\ttime & 1.7 &  2.7 &  4.9 & 0.3 &  3.9 &  4.1 & 1.2 & 0.5 &  3.3 & 0.2\\\\\n",
       "\\end{tabular}\n"
      ],
      "text/markdown": [
       "\n",
       "A matrix: 2 × 10 of type dbl\n",
       "\n",
       "| price | 6.4 | 16.1 | 42.1 | 2.1 | 30.7 | 32.1 | 7.2 | 3.4 | 20.8 | 1.5 |\n",
       "| time | 1.7 |  2.7 |  4.9 | 0.3 |  3.9 |  4.1 | 1.2 | 0.5 |  3.3 | 0.2 |\n",
       "\n"
      ],
      "text/plain": [
       "      [,1] [,2] [,3] [,4] [,5] [,6] [,7] [,8] [,9] [,10]\n",
       "price 6.4  16.1 42.1 2.1  30.7 32.1 7.2  3.4  20.8 1.5  \n",
       "time  1.7   2.7  4.9 0.3   3.9  4.1 1.2  0.5   3.3 0.2  "
      ]
     },
     "metadata": {},
     "output_type": "display_data"
    }
   ],
   "source": [
    "super <- read.table('./supermarket.txt', header=T)\n",
    "t(super)"
   ]
  },
  {
   "cell_type": "code",
   "execution_count": 11,
   "id": "53fc6a70",
   "metadata": {},
   "outputs": [
    {
     "data": {
      "text/plain": [
       "\n",
       "Call:\n",
       "lm(formula = time ~ price, data = super)\n",
       "\n",
       "Residuals:\n",
       "     Min       1Q   Median       3Q      Max \n",
       "-0.37928 -0.32771 -0.04431  0.32231  0.56126 \n",
       "\n",
       "Coefficients:\n",
       "            Estimate Std. Error t value Pr(>|t|)    \n",
       "(Intercept) 0.396460   0.191488    2.07   0.0722 .  \n",
       "price       0.115982   0.008979   12.92 1.22e-06 ***\n",
       "---\n",
       "Signif. codes:  0 ‘***’ 0.001 ‘**’ 0.01 ‘*’ 0.05 ‘.’ 0.1 ‘ ’ 1\n",
       "\n",
       "Residual standard error: 0.3925 on 8 degrees of freedom\n",
       "Multiple R-squared:  0.9542,\tAdjusted R-squared:  0.9485 \n",
       "F-statistic: 166.9 on 1 and 8 DF,  p-value: 1.221e-06\n"
      ]
     },
     "metadata": {},
     "output_type": "display_data"
    }
   ],
   "source": [
    "super.lm <- lm(time ~ price, data=super)\n",
    "super.lm.summary <- summary(super.lm)\n",
    "super.lm.summary"
   ]
  },
  {
   "cell_type": "code",
   "execution_count": 3,
   "id": "e7096043",
   "metadata": {},
   "outputs": [
    {
     "name": "stdout",
     "output_type": "stream",
     "text": [
      "β0 : 0.1159815 \n",
      "β1 : 0.3964597"
     ]
    }
   ],
   "source": [
    "# 절편(β₀)과 기울기(β₁)는 아래와 같다.\n",
    "β0 <- super.lm.summary$coefficients[2, 1]\n",
    "cat('β0 :', β0, '\\n')\n",
    "β1 <- super.lm.summary$coefficients[1, 1]\n",
    "cat('β1 :', β1)"
   ]
  },
  {
   "cell_type": "code",
   "execution_count": 4,
   "id": "cac7043b",
   "metadata": {},
   "outputs": [
    {
     "data": {
      "text/html": [
       "TRUE"
      ],
      "text/latex": [
       "TRUE"
      ],
      "text/markdown": [
       "TRUE"
      ],
      "text/plain": [
       "[1] TRUE"
      ]
     },
     "metadata": {},
     "output_type": "display_data"
    }
   ],
   "source": [
    "# p-value가 0.05보다 작으면 유의 -> β₁(기울기) = 0이라는 귀무가설을 기각하고 유의한걸로 판정\n",
    "super.lm.summary$coefficients[2,4] < 0.05"
   ]
  },
  {
   "cell_type": "code",
   "execution_count": 6,
   "id": "0aac60c8",
   "metadata": {},
   "outputs": [
    {
     "data": {
      "text/html": [
       "<table class=\"dataframe\">\n",
       "<caption>A anova: 2 × 5</caption>\n",
       "<thead>\n",
       "\t<tr><th></th><th scope=col>Df</th><th scope=col>Sum Sq</th><th scope=col>Mean Sq</th><th scope=col>F value</th><th scope=col>Pr(&gt;F)</th></tr>\n",
       "\t<tr><th></th><th scope=col>&lt;int&gt;</th><th scope=col>&lt;dbl&gt;</th><th scope=col>&lt;dbl&gt;</th><th scope=col>&lt;dbl&gt;</th><th scope=col>&lt;dbl&gt;</th></tr>\n",
       "</thead>\n",
       "<tbody>\n",
       "\t<tr><th scope=row>price</th><td>1</td><td>25.703598</td><td>25.7035980</td><td>166.852</td><td>1.220793e-06</td></tr>\n",
       "\t<tr><th scope=row>Residuals</th><td>8</td><td> 1.232402</td><td> 0.1540502</td><td>     NA</td><td>          NA</td></tr>\n",
       "</tbody>\n",
       "</table>\n"
      ],
      "text/latex": [
       "A anova: 2 × 5\n",
       "\\begin{tabular}{r|lllll}\n",
       "  & Df & Sum Sq & Mean Sq & F value & Pr(>F)\\\\\n",
       "  & <int> & <dbl> & <dbl> & <dbl> & <dbl>\\\\\n",
       "\\hline\n",
       "\tprice & 1 & 25.703598 & 25.7035980 & 166.852 & 1.220793e-06\\\\\n",
       "\tResiduals & 8 &  1.232402 &  0.1540502 &      NA &           NA\\\\\n",
       "\\end{tabular}\n"
      ],
      "text/markdown": [
       "\n",
       "A anova: 2 × 5\n",
       "\n",
       "| <!--/--> | Df &lt;int&gt; | Sum Sq &lt;dbl&gt; | Mean Sq &lt;dbl&gt; | F value &lt;dbl&gt; | Pr(&gt;F) &lt;dbl&gt; |\n",
       "|---|---|---|---|---|---|\n",
       "| price | 1 | 25.703598 | 25.7035980 | 166.852 | 1.220793e-06 |\n",
       "| Residuals | 8 |  1.232402 |  0.1540502 |      NA |           NA |\n",
       "\n"
      ],
      "text/plain": [
       "          Df Sum Sq    Mean Sq    F value Pr(>F)      \n",
       "price     1  25.703598 25.7035980 166.852 1.220793e-06\n",
       "Residuals 8   1.232402  0.1540502      NA           NA"
      ]
     },
     "metadata": {},
     "output_type": "display_data"
    },
    {
     "data": {
      "text/html": [
       "TRUE"
      ],
      "text/latex": [
       "TRUE"
      ],
      "text/markdown": [
       "TRUE"
      ],
      "text/plain": [
       "[1] TRUE"
      ]
     },
     "metadata": {},
     "output_type": "display_data"
    }
   ],
   "source": [
    "# 분산분석표의 F값을 통해서 회귀선이 유의한지 볼 수 있다 -> β₁(기울기) = 0이라는 귀무가설을 기각하고 유의한걸로 판정\n",
    "super.lm.anova <- anova(super.lm)\n",
    "super.lm.anova\n",
    "super.lm.anova[1, 5] < 0.05"
   ]
  },
  {
   "cell_type": "code",
   "execution_count": 7,
   "id": "684253d9",
   "metadata": {},
   "outputs": [
    {
     "data": {
      "text/html": [
       "<style>\n",
       ".list-inline {list-style: none; margin:0; padding: 0}\n",
       ".list-inline>li {display: inline-block}\n",
       ".list-inline>li:not(:last-child)::after {content: \"\\00b7\"; padding: 0 .5ex}\n",
       "</style>\n",
       "<ol class=list-inline><li>'coefficients'</li><li>'residuals'</li><li>'effects'</li><li>'rank'</li><li>'fitted.values'</li><li>'assign'</li><li>'qr'</li><li>'df.residual'</li><li>'xlevels'</li><li>'call'</li><li>'terms'</li><li>'model'</li></ol>\n"
      ],
      "text/latex": [
       "\\begin{enumerate*}\n",
       "\\item 'coefficients'\n",
       "\\item 'residuals'\n",
       "\\item 'effects'\n",
       "\\item 'rank'\n",
       "\\item 'fitted.values'\n",
       "\\item 'assign'\n",
       "\\item 'qr'\n",
       "\\item 'df.residual'\n",
       "\\item 'xlevels'\n",
       "\\item 'call'\n",
       "\\item 'terms'\n",
       "\\item 'model'\n",
       "\\end{enumerate*}\n"
      ],
      "text/markdown": [
       "1. 'coefficients'\n",
       "2. 'residuals'\n",
       "3. 'effects'\n",
       "4. 'rank'\n",
       "5. 'fitted.values'\n",
       "6. 'assign'\n",
       "7. 'qr'\n",
       "8. 'df.residual'\n",
       "9. 'xlevels'\n",
       "10. 'call'\n",
       "11. 'terms'\n",
       "12. 'model'\n",
       "\n",
       "\n"
      ],
      "text/plain": [
       " [1] \"coefficients\"  \"residuals\"     \"effects\"       \"rank\"         \n",
       " [5] \"fitted.values\" \"assign\"        \"qr\"            \"df.residual\"  \n",
       " [9] \"xlevels\"       \"call\"          \"terms\"         \"model\"        "
      ]
     },
     "metadata": {},
     "output_type": "display_data"
    }
   ],
   "source": [
    "# 회귀모형의 변수들 보기\n",
    "names(super.lm)"
   ]
  },
  {
   "cell_type": "code",
   "execution_count": 8,
   "id": "2e4c004b",
   "metadata": {},
   "outputs": [
    {
     "data": {
      "text/html": [
       "<table class=\"dataframe\">\n",
       "<caption>A data.frame: 10 × 4</caption>\n",
       "<thead>\n",
       "\t<tr><th></th><th scope=col>price</th><th scope=col>time</th><th scope=col>super.lm$resid</th><th scope=col>super.lm$fitted</th></tr>\n",
       "\t<tr><th></th><th scope=col>&lt;dbl&gt;</th><th scope=col>&lt;dbl&gt;</th><th scope=col>&lt;dbl&gt;</th><th scope=col>&lt;dbl&gt;</th></tr>\n",
       "</thead>\n",
       "<tbody>\n",
       "\t<tr><th scope=row>1</th><td> 6.4</td><td>1.7</td><td> 0.56125840</td><td>1.138742</td></tr>\n",
       "\t<tr><th scope=row>2</th><td>16.1</td><td>2.7</td><td> 0.43623742</td><td>2.263763</td></tr>\n",
       "\t<tr><th scope=row>3</th><td>42.1</td><td>4.9</td><td>-0.37928275</td><td>5.279283</td></tr>\n",
       "\t<tr><th scope=row>4</th><td> 2.1</td><td>0.3</td><td>-0.34002095</td><td>0.640021</td></tr>\n",
       "\t<tr><th scope=row>5</th><td>30.7</td><td>3.9</td><td>-0.05709314</td><td>3.957093</td></tr>\n",
       "\t<tr><th scope=row>6</th><td>32.1</td><td>4.1</td><td>-0.01946730</td><td>4.119467</td></tr>\n",
       "\t<tr><th scope=row>7</th><td> 7.2</td><td>1.2</td><td>-0.03152683</td><td>1.231527</td></tr>\n",
       "\t<tr><th scope=row>8</th><td> 3.4</td><td>0.5</td><td>-0.29079696</td><td>0.790797</td></tr>\n",
       "\t<tr><th scope=row>9</th><td>20.8</td><td>3.3</td><td> 0.49112416</td><td>2.808876</td></tr>\n",
       "\t<tr><th scope=row>10</th><td> 1.5</td><td>0.2</td><td>-0.37043203</td><td>0.570432</td></tr>\n",
       "</tbody>\n",
       "</table>\n"
      ],
      "text/latex": [
       "A data.frame: 10 × 4\n",
       "\\begin{tabular}{r|llll}\n",
       "  & price & time & super.lm\\$resid & super.lm\\$fitted\\\\\n",
       "  & <dbl> & <dbl> & <dbl> & <dbl>\\\\\n",
       "\\hline\n",
       "\t1 &  6.4 & 1.7 &  0.56125840 & 1.138742\\\\\n",
       "\t2 & 16.1 & 2.7 &  0.43623742 & 2.263763\\\\\n",
       "\t3 & 42.1 & 4.9 & -0.37928275 & 5.279283\\\\\n",
       "\t4 &  2.1 & 0.3 & -0.34002095 & 0.640021\\\\\n",
       "\t5 & 30.7 & 3.9 & -0.05709314 & 3.957093\\\\\n",
       "\t6 & 32.1 & 4.1 & -0.01946730 & 4.119467\\\\\n",
       "\t7 &  7.2 & 1.2 & -0.03152683 & 1.231527\\\\\n",
       "\t8 &  3.4 & 0.5 & -0.29079696 & 0.790797\\\\\n",
       "\t9 & 20.8 & 3.3 &  0.49112416 & 2.808876\\\\\n",
       "\t10 &  1.5 & 0.2 & -0.37043203 & 0.570432\\\\\n",
       "\\end{tabular}\n"
      ],
      "text/markdown": [
       "\n",
       "A data.frame: 10 × 4\n",
       "\n",
       "| <!--/--> | price &lt;dbl&gt; | time &lt;dbl&gt; | super.lm$resid &lt;dbl&gt; | super.lm$fitted &lt;dbl&gt; |\n",
       "|---|---|---|---|---|\n",
       "| 1 |  6.4 | 1.7 |  0.56125840 | 1.138742 |\n",
       "| 2 | 16.1 | 2.7 |  0.43623742 | 2.263763 |\n",
       "| 3 | 42.1 | 4.9 | -0.37928275 | 5.279283 |\n",
       "| 4 |  2.1 | 0.3 | -0.34002095 | 0.640021 |\n",
       "| 5 | 30.7 | 3.9 | -0.05709314 | 3.957093 |\n",
       "| 6 | 32.1 | 4.1 | -0.01946730 | 4.119467 |\n",
       "| 7 |  7.2 | 1.2 | -0.03152683 | 1.231527 |\n",
       "| 8 |  3.4 | 0.5 | -0.29079696 | 0.790797 |\n",
       "| 9 | 20.8 | 3.3 |  0.49112416 | 2.808876 |\n",
       "| 10 |  1.5 | 0.2 | -0.37043203 | 0.570432 |\n",
       "\n"
      ],
      "text/plain": [
       "   price time super.lm$resid super.lm$fitted\n",
       "1   6.4  1.7   0.56125840    1.138742       \n",
       "2  16.1  2.7   0.43623742    2.263763       \n",
       "3  42.1  4.9  -0.37928275    5.279283       \n",
       "4   2.1  0.3  -0.34002095    0.640021       \n",
       "5  30.7  3.9  -0.05709314    3.957093       \n",
       "6  32.1  4.1  -0.01946730    4.119467       \n",
       "7   7.2  1.2  -0.03152683    1.231527       \n",
       "8   3.4  0.5  -0.29079696    0.790797       \n",
       "9  20.8  3.3   0.49112416    2.808876       \n",
       "10  1.5  0.2  -0.37043203    0.570432       "
      ]
     },
     "metadata": {},
     "output_type": "display_data"
    }
   ],
   "source": [
    "# resid는 잔차이며 fitted는 추정값 이다.\n",
    "cbind(super, super.lm$resid, super.lm$fitted)"
   ]
  },
  {
   "cell_type": "code",
   "execution_count": null,
   "id": "36bc38c8",
   "metadata": {},
   "outputs": [],
   "source": []
  }
 ],
 "metadata": {
  "kernelspec": {
   "display_name": "R",
   "language": "R",
   "name": "ir"
  },
  "language_info": {
   "codemirror_mode": "r",
   "file_extension": ".r",
   "mimetype": "text/x-r-source",
   "name": "R",
   "pygments_lexer": "r",
   "version": "4.0.3"
  }
 },
 "nbformat": 4,
 "nbformat_minor": 5
}
