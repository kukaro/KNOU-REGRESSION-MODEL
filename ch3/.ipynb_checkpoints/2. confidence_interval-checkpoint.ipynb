{
 "cells": [
  {
   "cell_type": "code",
   "execution_count": 1,
   "id": "5b05b451",
   "metadata": {},
   "outputs": [],
   "source": [
    "market <- read.table('./market-1.txt', header=T)"
   ]
  },
  {
   "cell_type": "code",
   "execution_count": 2,
   "id": "c4d5806a",
   "metadata": {},
   "outputs": [
    {
     "data": {
      "text/html": [
       "<table class=\"dataframe\">\n",
       "<caption>A matrix: 3 × 15 of type dbl</caption>\n",
       "<tbody>\n",
       "\t<tr><th scope=row>ID</th><td>1.0</td><td> 2.0</td><td> 3.0</td><td> 4.0</td><td> 5.0</td><td> 6.0</td><td> 7.0</td><td> 8.0</td><td> 9.0</td><td>10.0</td><td>11.0</td><td>12.0</td><td>13.0</td><td>14.0</td><td>15.0</td></tr>\n",
       "\t<tr><th scope=row>X</th><td>4.2</td><td> 8.5</td><td> 9.3</td><td> 7.5</td><td> 6.3</td><td>12.2</td><td> 6.5</td><td>10.4</td><td> 5.8</td><td> 9.2</td><td> 7.2</td><td> 8.5</td><td>10.6</td><td>13.9</td><td>12.7</td></tr>\n",
       "\t<tr><th scope=row>Y</th><td>9.3</td><td>18.5</td><td>22.8</td><td>17.7</td><td>14.6</td><td>27.9</td><td>12.5</td><td>25.2</td><td>10.8</td><td>20.5</td><td>14.9</td><td>19.2</td><td>22.5</td><td>28.4</td><td>25.6</td></tr>\n",
       "</tbody>\n",
       "</table>\n"
      ],
      "text/latex": [
       "A matrix: 3 × 15 of type dbl\n",
       "\\begin{tabular}{r|lllllllllllllll}\n",
       "\tID & 1.0 &  2.0 &  3.0 &  4.0 &  5.0 &  6.0 &  7.0 &  8.0 &  9.0 & 10.0 & 11.0 & 12.0 & 13.0 & 14.0 & 15.0\\\\\n",
       "\tX & 4.2 &  8.5 &  9.3 &  7.5 &  6.3 & 12.2 &  6.5 & 10.4 &  5.8 &  9.2 &  7.2 &  8.5 & 10.6 & 13.9 & 12.7\\\\\n",
       "\tY & 9.3 & 18.5 & 22.8 & 17.7 & 14.6 & 27.9 & 12.5 & 25.2 & 10.8 & 20.5 & 14.9 & 19.2 & 22.5 & 28.4 & 25.6\\\\\n",
       "\\end{tabular}\n"
      ],
      "text/markdown": [
       "\n",
       "A matrix: 3 × 15 of type dbl\n",
       "\n",
       "| ID | 1.0 |  2.0 |  3.0 |  4.0 |  5.0 |  6.0 |  7.0 |  8.0 |  9.0 | 10.0 | 11.0 | 12.0 | 13.0 | 14.0 | 15.0 |\n",
       "| X | 4.2 |  8.5 |  9.3 |  7.5 |  6.3 | 12.2 |  6.5 | 10.4 |  5.8 |  9.2 |  7.2 |  8.5 | 10.6 | 13.9 | 12.7 |\n",
       "| Y | 9.3 | 18.5 | 22.8 | 17.7 | 14.6 | 27.9 | 12.5 | 25.2 | 10.8 | 20.5 | 14.9 | 19.2 | 22.5 | 28.4 | 25.6 |\n",
       "\n"
      ],
      "text/plain": [
       "   [,1] [,2] [,3] [,4] [,5] [,6] [,7] [,8] [,9] [,10] [,11] [,12] [,13] [,14]\n",
       "ID 1.0   2.0  3.0  4.0  5.0  6.0  7.0  8.0  9.0 10.0  11.0  12.0  13.0  14.0 \n",
       "X  4.2   8.5  9.3  7.5  6.3 12.2  6.5 10.4  5.8  9.2   7.2   8.5  10.6  13.9 \n",
       "Y  9.3  18.5 22.8 17.7 14.6 27.9 12.5 25.2 10.8 20.5  14.9  19.2  22.5  28.4 \n",
       "   [,15]\n",
       "ID 15.0 \n",
       "X  12.7 \n",
       "Y  25.6 "
      ]
     },
     "metadata": {},
     "output_type": "display_data"
    }
   ],
   "source": [
    "t(market)"
   ]
  },
  {
   "cell_type": "code",
   "execution_count": 3,
   "id": "c918a20d",
   "metadata": {},
   "outputs": [
    {
     "data": {
      "text/html": [
       "<table class=\"dataframe\">\n",
       "<caption>A data.frame: 6 × 3</caption>\n",
       "<thead>\n",
       "\t<tr><th></th><th scope=col>ID</th><th scope=col>X</th><th scope=col>Y</th></tr>\n",
       "\t<tr><th></th><th scope=col>&lt;int&gt;</th><th scope=col>&lt;dbl&gt;</th><th scope=col>&lt;dbl&gt;</th></tr>\n",
       "</thead>\n",
       "<tbody>\n",
       "\t<tr><th scope=row>1</th><td>1</td><td> 4.2</td><td> 9.3</td></tr>\n",
       "\t<tr><th scope=row>2</th><td>2</td><td> 8.5</td><td>18.5</td></tr>\n",
       "\t<tr><th scope=row>3</th><td>3</td><td> 9.3</td><td>22.8</td></tr>\n",
       "\t<tr><th scope=row>4</th><td>4</td><td> 7.5</td><td>17.7</td></tr>\n",
       "\t<tr><th scope=row>5</th><td>5</td><td> 6.3</td><td>14.6</td></tr>\n",
       "\t<tr><th scope=row>6</th><td>6</td><td>12.2</td><td>27.9</td></tr>\n",
       "</tbody>\n",
       "</table>\n"
      ],
      "text/latex": [
       "A data.frame: 6 × 3\n",
       "\\begin{tabular}{r|lll}\n",
       "  & ID & X & Y\\\\\n",
       "  & <int> & <dbl> & <dbl>\\\\\n",
       "\\hline\n",
       "\t1 & 1 &  4.2 &  9.3\\\\\n",
       "\t2 & 2 &  8.5 & 18.5\\\\\n",
       "\t3 & 3 &  9.3 & 22.8\\\\\n",
       "\t4 & 4 &  7.5 & 17.7\\\\\n",
       "\t5 & 5 &  6.3 & 14.6\\\\\n",
       "\t6 & 6 & 12.2 & 27.9\\\\\n",
       "\\end{tabular}\n"
      ],
      "text/markdown": [
       "\n",
       "A data.frame: 6 × 3\n",
       "\n",
       "| <!--/--> | ID &lt;int&gt; | X &lt;dbl&gt; | Y &lt;dbl&gt; |\n",
       "|---|---|---|---|\n",
       "| 1 | 1 |  4.2 |  9.3 |\n",
       "| 2 | 2 |  8.5 | 18.5 |\n",
       "| 3 | 3 |  9.3 | 22.8 |\n",
       "| 4 | 4 |  7.5 | 17.7 |\n",
       "| 5 | 5 |  6.3 | 14.6 |\n",
       "| 6 | 6 | 12.2 | 27.9 |\n",
       "\n"
      ],
      "text/plain": [
       "  ID X    Y   \n",
       "1 1   4.2  9.3\n",
       "2 2   8.5 18.5\n",
       "3 3   9.3 22.8\n",
       "4 4   7.5 17.7\n",
       "5 5   6.3 14.6\n",
       "6 6  12.2 27.9"
      ]
     },
     "metadata": {},
     "output_type": "display_data"
    }
   ],
   "source": [
    "head(market)"
   ]
  },
  {
   "cell_type": "code",
   "execution_count": 4,
   "id": "06922afb",
   "metadata": {},
   "outputs": [],
   "source": [
    "pred.frame <- data.frame(X=seq(3.5, 14.5, 0.2))\n",
    "pc <- predict(market.lm, int='c', newdata=pred.frame)\n",
    "pp <- predict(market.lm, int='p', newdata=pred.frame)"
   ]
  },
  {
   "cell_type": "code",
   "execution_count": 5,
   "id": "87fc3d63",
   "metadata": {},
   "outputs": [
    {
     "data": {
      "text/html": [
       "<table class=\"dataframe\">\n",
       "<caption>A matrix: 3 × 56 of type dbl</caption>\n",
       "<thead>\n",
       "\t<tr><th></th><th scope=col>1</th><th scope=col>2</th><th scope=col>3</th><th scope=col>4</th><th scope=col>5</th><th scope=col>6</th><th scope=col>7</th><th scope=col>8</th><th scope=col>9</th><th scope=col>10</th><th scope=col>⋯</th><th scope=col>47</th><th scope=col>48</th><th scope=col>49</th><th scope=col>50</th><th scope=col>51</th><th scope=col>52</th><th scope=col>53</th><th scope=col>54</th><th scope=col>55</th><th scope=col>56</th></tr>\n",
       "</thead>\n",
       "<tbody>\n",
       "\t<tr><th scope=row>fit</th><td>7.852079</td><td> 8.282014</td><td> 8.711949</td><td> 9.141883</td><td> 9.571818</td><td>10.001753</td><td>10.431688</td><td>10.861623</td><td>11.291557</td><td>11.72149</td><td>⋯</td><td>27.62908</td><td>28.05901</td><td>28.48895</td><td>28.91888</td><td>29.34882</td><td>29.77875</td><td>30.20869</td><td>30.63862</td><td>31.06856</td><td>31.49849</td></tr>\n",
       "\t<tr><th scope=row>lwr</th><td>5.855247</td><td> 6.344903</td><td> 6.834076</td><td> 7.322721</td><td> 7.810782</td><td> 8.298202</td><td> 8.784913</td><td> 9.270838</td><td> 9.755893</td><td>10.23998</td><td>⋯</td><td>26.06781</td><td>26.44220</td><td>26.81577</td><td>27.18859</td><td>27.56073</td><td>27.93226</td><td>28.30323</td><td>28.67370</td><td>29.04370</td><td>29.41328</td></tr>\n",
       "\t<tr><th scope=row>upr</th><td>9.848911</td><td>10.219125</td><td>10.589821</td><td>10.961046</td><td>11.332854</td><td>11.705304</td><td>12.078463</td><td>12.452407</td><td>12.827222</td><td>13.20301</td><td>⋯</td><td>29.19035</td><td>29.67582</td><td>30.16213</td><td>30.64918</td><td>31.13690</td><td>31.62524</td><td>32.11414</td><td>32.60355</td><td>33.09341</td><td>33.58370</td></tr>\n",
       "</tbody>\n",
       "</table>\n"
      ],
      "text/latex": [
       "A matrix: 3 × 56 of type dbl\n",
       "\\begin{tabular}{r|lllllllllllllllllllll}\n",
       "  & 1 & 2 & 3 & 4 & 5 & 6 & 7 & 8 & 9 & 10 & ⋯ & 47 & 48 & 49 & 50 & 51 & 52 & 53 & 54 & 55 & 56\\\\\n",
       "\\hline\n",
       "\tfit & 7.852079 &  8.282014 &  8.711949 &  9.141883 &  9.571818 & 10.001753 & 10.431688 & 10.861623 & 11.291557 & 11.72149 & ⋯ & 27.62908 & 28.05901 & 28.48895 & 28.91888 & 29.34882 & 29.77875 & 30.20869 & 30.63862 & 31.06856 & 31.49849\\\\\n",
       "\tlwr & 5.855247 &  6.344903 &  6.834076 &  7.322721 &  7.810782 &  8.298202 &  8.784913 &  9.270838 &  9.755893 & 10.23998 & ⋯ & 26.06781 & 26.44220 & 26.81577 & 27.18859 & 27.56073 & 27.93226 & 28.30323 & 28.67370 & 29.04370 & 29.41328\\\\\n",
       "\tupr & 9.848911 & 10.219125 & 10.589821 & 10.961046 & 11.332854 & 11.705304 & 12.078463 & 12.452407 & 12.827222 & 13.20301 & ⋯ & 29.19035 & 29.67582 & 30.16213 & 30.64918 & 31.13690 & 31.62524 & 32.11414 & 32.60355 & 33.09341 & 33.58370\\\\\n",
       "\\end{tabular}\n"
      ],
      "text/markdown": [
       "\n",
       "A matrix: 3 × 56 of type dbl\n",
       "\n",
       "| <!--/--> | 1 | 2 | 3 | 4 | 5 | 6 | 7 | 8 | 9 | 10 | ⋯ | 47 | 48 | 49 | 50 | 51 | 52 | 53 | 54 | 55 | 56 |\n",
       "|---|---|---|---|---|---|---|---|---|---|---|---|---|---|---|---|---|---|---|---|---|---|\n",
       "| fit | 7.852079 |  8.282014 |  8.711949 |  9.141883 |  9.571818 | 10.001753 | 10.431688 | 10.861623 | 11.291557 | 11.72149 | ⋯ | 27.62908 | 28.05901 | 28.48895 | 28.91888 | 29.34882 | 29.77875 | 30.20869 | 30.63862 | 31.06856 | 31.49849 |\n",
       "| lwr | 5.855247 |  6.344903 |  6.834076 |  7.322721 |  7.810782 |  8.298202 |  8.784913 |  9.270838 |  9.755893 | 10.23998 | ⋯ | 26.06781 | 26.44220 | 26.81577 | 27.18859 | 27.56073 | 27.93226 | 28.30323 | 28.67370 | 29.04370 | 29.41328 |\n",
       "| upr | 9.848911 | 10.219125 | 10.589821 | 10.961046 | 11.332854 | 11.705304 | 12.078463 | 12.452407 | 12.827222 | 13.20301 | ⋯ | 29.19035 | 29.67582 | 30.16213 | 30.64918 | 31.13690 | 31.62524 | 32.11414 | 32.60355 | 33.09341 | 33.58370 |\n",
       "\n"
      ],
      "text/plain": [
       "    1        2         3         4         5         6         7        \n",
       "fit 7.852079  8.282014  8.711949  9.141883  9.571818 10.001753 10.431688\n",
       "lwr 5.855247  6.344903  6.834076  7.322721  7.810782  8.298202  8.784913\n",
       "upr 9.848911 10.219125 10.589821 10.961046 11.332854 11.705304 12.078463\n",
       "    8         9         10       ⋯ 47       48       49       50       51      \n",
       "fit 10.861623 11.291557 11.72149 ⋯ 27.62908 28.05901 28.48895 28.91888 29.34882\n",
       "lwr  9.270838  9.755893 10.23998 ⋯ 26.06781 26.44220 26.81577 27.18859 27.56073\n",
       "upr 12.452407 12.827222 13.20301 ⋯ 29.19035 29.67582 30.16213 30.64918 31.13690\n",
       "    52       53       54       55       56      \n",
       "fit 29.77875 30.20869 30.63862 31.06856 31.49849\n",
       "lwr 27.93226 28.30323 28.67370 29.04370 29.41328\n",
       "upr 31.62524 32.11414 32.60355 33.09341 33.58370"
      ]
     },
     "metadata": {},
     "output_type": "display_data"
    }
   ],
   "source": [
    "t(pc)"
   ]
  },
  {
   "cell_type": "code",
   "execution_count": 6,
   "id": "c3908eae",
   "metadata": {
    "scrolled": true
   },
   "outputs": [
    {
     "data": {
      "text/html": [
       "<table class=\"dataframe\">\n",
       "<caption>A matrix: 3 × 56 of type dbl</caption>\n",
       "<thead>\n",
       "\t<tr><th></th><th scope=col>1</th><th scope=col>2</th><th scope=col>3</th><th scope=col>4</th><th scope=col>5</th><th scope=col>6</th><th scope=col>7</th><th scope=col>8</th><th scope=col>9</th><th scope=col>10</th><th scope=col>⋯</th><th scope=col>47</th><th scope=col>48</th><th scope=col>49</th><th scope=col>50</th><th scope=col>51</th><th scope=col>52</th><th scope=col>53</th><th scope=col>54</th><th scope=col>55</th><th scope=col>56</th></tr>\n",
       "</thead>\n",
       "<tbody>\n",
       "\t<tr><th scope=row>fit</th><td> 7.852079</td><td> 8.282014</td><td> 8.711949</td><td> 9.141883</td><td> 9.571818</td><td>10.001753</td><td>10.431688</td><td>10.861623</td><td>11.291557</td><td>11.721492</td><td>⋯</td><td>27.62908</td><td>28.05901</td><td>28.48895</td><td>28.91888</td><td>29.34882</td><td>29.77875</td><td>30.20869</td><td>30.63862</td><td>31.06856</td><td>31.49849</td></tr>\n",
       "\t<tr><th scope=row>lwr</th><td> 3.885278</td><td> 4.344937</td><td> 4.803678</td><td> 5.261481</td><td> 5.718324</td><td> 6.174188</td><td> 6.629052</td><td> 7.082897</td><td> 7.535704</td><td> 7.987452</td><td>⋯</td><td>23.86268</td><td>24.26926</td><td>24.67480</td><td>25.07934</td><td>25.48289</td><td>25.88546</td><td>26.28709</td><td>26.68779</td><td>27.08758</td><td>27.48648</td></tr>\n",
       "\t<tr><th scope=row>upr</th><td>11.818880</td><td>12.219090</td><td>12.620219</td><td>13.022286</td><td>13.425313</td><td>13.829318</td><td>14.234324</td><td>14.640348</td><td>15.047411</td><td>15.455532</td><td>⋯</td><td>31.39548</td><td>31.84877</td><td>32.30309</td><td>32.75843</td><td>33.21475</td><td>33.67204</td><td>34.13029</td><td>34.58946</td><td>35.04954</td><td>35.51051</td></tr>\n",
       "</tbody>\n",
       "</table>\n"
      ],
      "text/latex": [
       "A matrix: 3 × 56 of type dbl\n",
       "\\begin{tabular}{r|lllllllllllllllllllll}\n",
       "  & 1 & 2 & 3 & 4 & 5 & 6 & 7 & 8 & 9 & 10 & ⋯ & 47 & 48 & 49 & 50 & 51 & 52 & 53 & 54 & 55 & 56\\\\\n",
       "\\hline\n",
       "\tfit &  7.852079 &  8.282014 &  8.711949 &  9.141883 &  9.571818 & 10.001753 & 10.431688 & 10.861623 & 11.291557 & 11.721492 & ⋯ & 27.62908 & 28.05901 & 28.48895 & 28.91888 & 29.34882 & 29.77875 & 30.20869 & 30.63862 & 31.06856 & 31.49849\\\\\n",
       "\tlwr &  3.885278 &  4.344937 &  4.803678 &  5.261481 &  5.718324 &  6.174188 &  6.629052 &  7.082897 &  7.535704 &  7.987452 & ⋯ & 23.86268 & 24.26926 & 24.67480 & 25.07934 & 25.48289 & 25.88546 & 26.28709 & 26.68779 & 27.08758 & 27.48648\\\\\n",
       "\tupr & 11.818880 & 12.219090 & 12.620219 & 13.022286 & 13.425313 & 13.829318 & 14.234324 & 14.640348 & 15.047411 & 15.455532 & ⋯ & 31.39548 & 31.84877 & 32.30309 & 32.75843 & 33.21475 & 33.67204 & 34.13029 & 34.58946 & 35.04954 & 35.51051\\\\\n",
       "\\end{tabular}\n"
      ],
      "text/markdown": [
       "\n",
       "A matrix: 3 × 56 of type dbl\n",
       "\n",
       "| <!--/--> | 1 | 2 | 3 | 4 | 5 | 6 | 7 | 8 | 9 | 10 | ⋯ | 47 | 48 | 49 | 50 | 51 | 52 | 53 | 54 | 55 | 56 |\n",
       "|---|---|---|---|---|---|---|---|---|---|---|---|---|---|---|---|---|---|---|---|---|---|\n",
       "| fit |  7.852079 |  8.282014 |  8.711949 |  9.141883 |  9.571818 | 10.001753 | 10.431688 | 10.861623 | 11.291557 | 11.721492 | ⋯ | 27.62908 | 28.05901 | 28.48895 | 28.91888 | 29.34882 | 29.77875 | 30.20869 | 30.63862 | 31.06856 | 31.49849 |\n",
       "| lwr |  3.885278 |  4.344937 |  4.803678 |  5.261481 |  5.718324 |  6.174188 |  6.629052 |  7.082897 |  7.535704 |  7.987452 | ⋯ | 23.86268 | 24.26926 | 24.67480 | 25.07934 | 25.48289 | 25.88546 | 26.28709 | 26.68779 | 27.08758 | 27.48648 |\n",
       "| upr | 11.818880 | 12.219090 | 12.620219 | 13.022286 | 13.425313 | 13.829318 | 14.234324 | 14.640348 | 15.047411 | 15.455532 | ⋯ | 31.39548 | 31.84877 | 32.30309 | 32.75843 | 33.21475 | 33.67204 | 34.13029 | 34.58946 | 35.04954 | 35.51051 |\n",
       "\n"
      ],
      "text/plain": [
       "    1         2         3         4         5         6         7        \n",
       "fit  7.852079  8.282014  8.711949  9.141883  9.571818 10.001753 10.431688\n",
       "lwr  3.885278  4.344937  4.803678  5.261481  5.718324  6.174188  6.629052\n",
       "upr 11.818880 12.219090 12.620219 13.022286 13.425313 13.829318 14.234324\n",
       "    8         9         10        ⋯ 47       48       49       50      \n",
       "fit 10.861623 11.291557 11.721492 ⋯ 27.62908 28.05901 28.48895 28.91888\n",
       "lwr  7.082897  7.535704  7.987452 ⋯ 23.86268 24.26926 24.67480 25.07934\n",
       "upr 14.640348 15.047411 15.455532 ⋯ 31.39548 31.84877 32.30309 32.75843\n",
       "    51       52       53       54       55       56      \n",
       "fit 29.34882 29.77875 30.20869 30.63862 31.06856 31.49849\n",
       "lwr 25.48289 25.88546 26.28709 26.68779 27.08758 27.48648\n",
       "upr 33.21475 33.67204 34.13029 34.58946 35.04954 35.51051"
      ]
     },
     "metadata": {},
     "output_type": "display_data"
    }
   ],
   "source": [
    "t(pp)"
   ]
  },
  {
   "cell_type": "code",
   "execution_count": 7,
   "id": "bcf18376",
   "metadata": {},
   "outputs": [
    {
     "data": {
      "text/html": [
       "<style>\n",
       ".list-inline {list-style: none; margin:0; padding: 0}\n",
       ".list-inline>li {display: inline-block}\n",
       ".list-inline>li:not(:last-child)::after {content: \"\\00b7\"; padding: 0 .5ex}\n",
       "</style>\n",
       "<ol class=list-inline><li>3.5</li><li>3.7</li><li>3.9</li><li>4.1</li><li>4.3</li><li>4.5</li><li>4.7</li><li>4.9</li><li>5.1</li><li>5.3</li><li>5.5</li><li>5.7</li><li>5.9</li><li>6.1</li><li>6.3</li><li>6.5</li><li>6.7</li><li>6.9</li><li>7.1</li><li>7.3</li><li>7.5</li><li>7.7</li><li>7.9</li><li>8.1</li><li>8.3</li><li>8.5</li><li>8.7</li><li>8.9</li><li>9.1</li><li>9.3</li><li>9.5</li><li>9.7</li><li>9.9</li><li>10.1</li><li>10.3</li><li>10.5</li><li>10.7</li><li>10.9</li><li>11.1</li><li>11.3</li><li>11.5</li><li>11.7</li><li>11.9</li><li>12.1</li><li>12.3</li><li>12.5</li><li>12.7</li><li>12.9</li><li>13.1</li><li>13.3</li><li>13.5</li><li>13.7</li><li>13.9</li><li>14.1</li><li>14.3</li><li>14.5</li></ol>\n"
      ],
      "text/latex": [
       "\\begin{enumerate*}\n",
       "\\item 3.5\n",
       "\\item 3.7\n",
       "\\item 3.9\n",
       "\\item 4.1\n",
       "\\item 4.3\n",
       "\\item 4.5\n",
       "\\item 4.7\n",
       "\\item 4.9\n",
       "\\item 5.1\n",
       "\\item 5.3\n",
       "\\item 5.5\n",
       "\\item 5.7\n",
       "\\item 5.9\n",
       "\\item 6.1\n",
       "\\item 6.3\n",
       "\\item 6.5\n",
       "\\item 6.7\n",
       "\\item 6.9\n",
       "\\item 7.1\n",
       "\\item 7.3\n",
       "\\item 7.5\n",
       "\\item 7.7\n",
       "\\item 7.9\n",
       "\\item 8.1\n",
       "\\item 8.3\n",
       "\\item 8.5\n",
       "\\item 8.7\n",
       "\\item 8.9\n",
       "\\item 9.1\n",
       "\\item 9.3\n",
       "\\item 9.5\n",
       "\\item 9.7\n",
       "\\item 9.9\n",
       "\\item 10.1\n",
       "\\item 10.3\n",
       "\\item 10.5\n",
       "\\item 10.7\n",
       "\\item 10.9\n",
       "\\item 11.1\n",
       "\\item 11.3\n",
       "\\item 11.5\n",
       "\\item 11.7\n",
       "\\item 11.9\n",
       "\\item 12.1\n",
       "\\item 12.3\n",
       "\\item 12.5\n",
       "\\item 12.7\n",
       "\\item 12.9\n",
       "\\item 13.1\n",
       "\\item 13.3\n",
       "\\item 13.5\n",
       "\\item 13.7\n",
       "\\item 13.9\n",
       "\\item 14.1\n",
       "\\item 14.3\n",
       "\\item 14.5\n",
       "\\end{enumerate*}\n"
      ],
      "text/markdown": [
       "1. 3.5\n",
       "2. 3.7\n",
       "3. 3.9\n",
       "4. 4.1\n",
       "5. 4.3\n",
       "6. 4.5\n",
       "7. 4.7\n",
       "8. 4.9\n",
       "9. 5.1\n",
       "10. 5.3\n",
       "11. 5.5\n",
       "12. 5.7\n",
       "13. 5.9\n",
       "14. 6.1\n",
       "15. 6.3\n",
       "16. 6.5\n",
       "17. 6.7\n",
       "18. 6.9\n",
       "19. 7.1\n",
       "20. 7.3\n",
       "21. 7.5\n",
       "22. 7.7\n",
       "23. 7.9\n",
       "24. 8.1\n",
       "25. 8.3\n",
       "26. 8.5\n",
       "27. 8.7\n",
       "28. 8.9\n",
       "29. 9.1\n",
       "30. 9.3\n",
       "31. 9.5\n",
       "32. 9.7\n",
       "33. 9.9\n",
       "34. 10.1\n",
       "35. 10.3\n",
       "36. 10.5\n",
       "37. 10.7\n",
       "38. 10.9\n",
       "39. 11.1\n",
       "40. 11.3\n",
       "41. 11.5\n",
       "42. 11.7\n",
       "43. 11.9\n",
       "44. 12.1\n",
       "45. 12.3\n",
       "46. 12.5\n",
       "47. 12.7\n",
       "48. 12.9\n",
       "49. 13.1\n",
       "50. 13.3\n",
       "51. 13.5\n",
       "52. 13.7\n",
       "53. 13.9\n",
       "54. 14.1\n",
       "55. 14.3\n",
       "56. 14.5\n",
       "\n",
       "\n"
      ],
      "text/plain": [
       " [1]  3.5  3.7  3.9  4.1  4.3  4.5  4.7  4.9  5.1  5.3  5.5  5.7  5.9  6.1  6.3\n",
       "[16]  6.5  6.7  6.9  7.1  7.3  7.5  7.7  7.9  8.1  8.3  8.5  8.7  8.9  9.1  9.3\n",
       "[31]  9.5  9.7  9.9 10.1 10.3 10.5 10.7 10.9 11.1 11.3 11.5 11.7 11.9 12.1 12.3\n",
       "[46] 12.5 12.7 12.9 13.1 13.3 13.5 13.7 13.9 14.1 14.3 14.5"
      ]
     },
     "metadata": {},
     "output_type": "display_data"
    }
   ],
   "source": [
    "pred.X <- pred.frame$X\n",
    "pred.X"
   ]
  },
  {
   "cell_type": "code",
   "execution_count": 9,
   "id": "4fe7d8d4",
   "metadata": {},
   "outputs": [
    {
     "data": {
      "image/png": "[encoded data removed]",
      "text/plain": [
       "plot without title"
      ]
     },
     "metadata": {
      "image/png": {
       "height": 420,
       "width": 420
      }
     },
     "output_type": "display_data"
    }
   ],
   "source": [
    "# 신뢰대를 그려볼 수 있다.\n",
    "plot(market$X, market$Y, ylim=range(market$Y, pp))\n",
    "matlines(pred.X, pc, lty=c(1, 2, 2), col='BLUE')\n",
    "matlines(pred.X, pp, lty=c(1, 3, 3), col='RED')"
   ]
  },
  {
   "cell_type": "code",
   "execution_count": 14,
   "id": "eb5e9e6f",
   "metadata": {},
   "outputs": [
    {
     "data": {
      "text/plain": [
       "\n",
       "Call:\n",
       "lm(formula = Y ~ X, data = market)\n",
       "\n",
       "Residuals:\n",
       "     Min       1Q   Median       3Q      Max \n",
       "-2.02908 -1.35349 -0.05685  0.98903  2.51517 \n",
       "\n",
       "Coefficients:\n",
       "            Estimate Std. Error t value Pr(>|t|)    \n",
       "(Intercept)   0.3282     1.4302   0.229    0.822    \n",
       "X             2.1497     0.1548  13.889 3.55e-09 ***\n",
       "---\n",
       "Signif. codes:  0 ‘***’ 0.001 ‘**’ 0.01 ‘*’ 0.05 ‘.’ 0.1 ‘ ’ 1\n",
       "\n",
       "Residual standard error: 1.587 on 13 degrees of freedom\n",
       "Multiple R-squared:  0.9369,\tAdjusted R-squared:  0.932 \n",
       "F-statistic: 192.9 on 1 and 13 DF,  p-value: 3.554e-09\n"
      ]
     },
     "metadata": {},
     "output_type": "display_data"
    }
   ],
   "source": [
    "market.lm <- lm(Y ~ X, data=market)\n",
    "market.lm.summary <- summary(market.lm)\n",
    "market.lm.summary"
   ]
  },
  {
   "cell_type": "code",
   "execution_count": 20,
   "id": "61ba08cd",
   "metadata": {},
   "outputs": [
    {
     "data": {
      "text/html": [
       "2.16036865646279"
      ],
      "text/latex": [
       "2.16036865646279"
      ],
      "text/markdown": [
       "2.16036865646279"
      ],
      "text/plain": [
       "[1] 2.160369"
      ]
     },
     "metadata": {},
     "output_type": "display_data"
    }
   ],
   "source": [
    "q.val <- qt(0.975, 13)\n",
    "q.val"
   ]
  },
  {
   "cell_type": "code",
   "execution_count": 21,
   "id": "32314830",
   "metadata": {},
   "outputs": [
    {
     "data": {
      "text/html": [
       "1.81530133141002"
      ],
      "text/latex": [
       "1.81530133141002"
      ],
      "text/markdown": [
       "1.81530133141002"
      ],
      "text/plain": [
       "[1] 1.815301"
      ]
     },
     "metadata": {},
     "output_type": "display_data"
    },
    {
     "data": {
      "text/html": [
       "2.48404645054105"
      ],
      "text/latex": [
       "2.48404645054105"
      ],
      "text/markdown": [
       "2.48404645054105"
      ],
      "text/plain": [
       "[1] 2.484046"
      ]
     },
     "metadata": {},
     "output_type": "display_data"
    }
   ],
   "source": [
    "# β₁의 95% 신뢰구간\n",
    "β1 <- market.lm.summary$coefficients[2, 1]\n",
    "std1.err <- market.lm.summary$coefficients[2, 2]\n",
    "# 최소값\n",
    "β1 - q.val * std1.err\n",
    "# 최대값\n",
    "β1 + q.val * std1.err"
   ]
  },
  {
   "cell_type": "code",
   "execution_count": 22,
   "id": "7a20a18f",
   "metadata": {},
   "outputs": [
    {
     "data": {
      "text/html": [
       "-2.76154601082954"
      ],
      "text/latex": [
       "-2.76154601082954"
      ],
      "text/markdown": [
       "-2.76154601082954"
      ],
      "text/plain": [
       "[1] -2.761546"
      ]
     },
     "metadata": {},
     "output_type": "display_data"
    },
    {
     "data": {
      "text/html": [
       "3.41798698128939"
      ],
      "text/latex": [
       "3.41798698128939"
      ],
      "text/markdown": [
       "3.41798698128939"
      ],
      "text/plain": [
       "[1] 3.417987"
      ]
     },
     "metadata": {},
     "output_type": "display_data"
    }
   ],
   "source": [
    "# β₀의 95% 신뢰구간\n",
    "β0 <- market.lm.summary$coefficients[1, 1]\n",
    "std0.err <- market.lm.summary$coefficients[1, 2]\n",
    "# 최소값\n",
    "β0 - q.val * std0.err\n",
    "# 최대값\n",
    "β0 + q.val * std0.err"
   ]
  },
  {
   "cell_type": "code",
   "execution_count": 24,
   "id": "d8329c4e",
   "metadata": {},
   "outputs": [
    {
     "data": {
      "text/plain": [
       "\n",
       "Call:\n",
       "lm(formula = Y ~ X, data = market)\n",
       "\n",
       "Residuals:\n",
       "     Min       1Q   Median       3Q      Max \n",
       "-2.02908 -1.35349 -0.05685  0.98903  2.51517 \n",
       "\n",
       "Coefficients:\n",
       "            Estimate Std. Error t value Pr(>|t|)    \n",
       "(Intercept)   0.3282     1.4302   0.229    0.822    \n",
       "X             2.1497     0.1548  13.889 3.55e-09 ***\n",
       "---\n",
       "Signif. codes:  0 ‘***’ 0.001 ‘**’ 0.01 ‘*’ 0.05 ‘.’ 0.1 ‘ ’ 1\n",
       "\n",
       "Residual standard error: 1.587 on 13 degrees of freedom\n",
       "Multiple R-squared:  0.9369,\tAdjusted R-squared:  0.932 \n",
       "F-statistic: 192.9 on 1 and 13 DF,  p-value: 3.554e-09\n"
      ]
     },
     "metadata": {},
     "output_type": "display_data"
    }
   ],
   "source": [
    "# β₁의 검정\n",
    "market.lm <- lm(Y ~ X, data=market)\n",
    "market.lm.summary <- summary(market.lm)\n",
    "market.lm.summary"
   ]
  },
  {
   "cell_type": "code",
   "execution_count": 27,
   "id": "c74672cf",
   "metadata": {},
   "outputs": [
    {
     "data": {
      "text/html": [
       "13.8889629630929"
      ],
      "text/latex": [
       "13.8889629630929"
      ],
      "text/markdown": [
       "13.8889629630929"
      ],
      "text/plain": [
       "[1] 13.88896"
      ]
     },
     "metadata": {},
     "output_type": "display_data"
    }
   ],
   "source": [
    "# t값은 summary결과에서 추출할 수 있다.\n",
    "t.value <- market.lm.summary$coefficients[2,3]\n",
    "t.value"
   ]
  },
  {
   "cell_type": "code",
   "execution_count": 28,
   "id": "c7185004",
   "metadata": {},
   "outputs": [
    {
     "data": {
      "text/html": [
       "13.8889629630929"
      ],
      "text/latex": [
       "13.8889629630929"
      ],
      "text/markdown": [
       "13.8889629630929"
      ],
      "text/plain": [
       "[1] 13.88896"
      ]
     },
     "metadata": {},
     "output_type": "display_data"
    }
   ],
   "source": [
    "# t값은 기울기(β₁)를 표준오차로 나눈 값이다.\n",
    "β1 <- market.lm.summary$coefficients[2,1]\n",
    "std1.err <- market.lm.summary$coefficients[2,2]\n",
    "t.value <- β1/std1.err\n",
    "t.value"
   ]
  },
  {
   "cell_type": "code",
   "execution_count": null,
   "id": "3b2f4792",
   "metadata": {},
   "outputs": [],
   "source": []
  }
 ],
 "metadata": {
  "kernelspec": {
   "display_name": "R",
   "language": "R",
   "name": "ir"
  },
  "language_info": {
   "codemirror_mode": "r",
   "file_extension": ".r",
   "mimetype": "text/x-r-source",
   "name": "R",
   "pygments_lexer": "r",
   "version": "4.0.3"
  }
 },
 "nbformat": 4,
 "nbformat_minor": 5
}
