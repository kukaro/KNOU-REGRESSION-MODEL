{
 "cells": [
  {
   "cell_type": "code",
   "execution_count": 1,
   "id": "93eb69d9",
   "metadata": {},
   "outputs": [],
   "source": [
    "x <- c(1, 2, 3, 4, 5)"
   ]
  },
  {
   "cell_type": "code",
   "execution_count": 2,
   "id": "71f75060",
   "metadata": {},
   "outputs": [],
   "source": [
    "y <- c(2, 3, 5, 8, 7)"
   ]
  },
  {
   "cell_type": "code",
   "execution_count": 4,
   "id": "77d392b4",
   "metadata": {},
   "outputs": [],
   "source": [
    "w <- 1/x"
   ]
  },
  {
   "cell_type": "code",
   "execution_count": 6,
   "id": "d93a1463",
   "metadata": {},
   "outputs": [
    {
     "data": {
      "text/plain": [
       "\n",
       "Call:\n",
       "lm(formula = y ~ x, weights = w)\n",
       "\n",
       "Coefficients:\n",
       "(Intercept)            x  \n",
       "     0.3784       1.5405  \n"
      ]
     },
     "metadata": {},
     "output_type": "display_data"
    }
   ],
   "source": [
    "w.lm <- lm(y ~ x, weights=w)\n",
    "w.lm"
   ]
  },
  {
   "cell_type": "code",
   "execution_count": 9,
   "id": "01e37667",
   "metadata": {},
   "outputs": [
    {
     "data": {
      "text/plain": [
       "\n",
       "Call:\n",
       "lm(formula = y ~ x, weights = w)\n",
       "\n",
       "Weighted Residuals:\n",
       "         1          2          3          4          5 \n",
       " 8.108e-02 -3.249e-01 -1.076e-16  7.297e-01 -4.835e-01 \n",
       "\n",
       "Coefficients:\n",
       "            Estimate Std. Error t value Pr(>|t|)  \n",
       "(Intercept)   0.3784     0.6891   0.549   0.6212  \n",
       "x             1.5405     0.2688   5.730   0.0106 *\n",
       "---\n",
       "Signif. codes:  0 ‘***’ 0.001 ‘**’ 0.01 ‘*’ 0.05 ‘.’ 0.1 ‘ ’ 1\n",
       "\n",
       "Residual standard error: 0.5411 on 3 degrees of freedom\n",
       "Multiple R-squared:  0.9163,\tAdjusted R-squared:  0.8884 \n",
       "F-statistic: 32.84 on 1 and 3 DF,  p-value: 0.01055\n"
      ]
     },
     "metadata": {},
     "output_type": "display_data"
    }
   ],
   "source": [
    "w.lm.summary <- summary(w.lm)\n",
    "w.lm.summary"
   ]
  },
  {
   "cell_type": "code",
   "execution_count": 10,
   "id": "e60b493a",
   "metadata": {},
   "outputs": [
    {
     "name": "stdout",
     "output_type": "stream",
     "text": [
      "β0 : 1.540541 \n",
      "β1 : 0.3783784"
     ]
    }
   ],
   "source": [
    "# 절편(β₀)과 기울기(β₁)는 아래와 같다.\n",
    "β0 <- w.lm.summary$coefficients[2, 1]\n",
    "cat('β0 :', β0, '\\n')\n",
    "β1 <- w.lm.summary$coefficients[1, 1]\n",
    "cat('β1 :', β1)"
   ]
  },
  {
   "cell_type": "code",
   "execution_count": 11,
   "id": "7b5bcd25",
   "metadata": {},
   "outputs": [
    {
     "data": {
      "text/html": [
       "<table class=\"dataframe\">\n",
       "<caption>A anova: 2 × 5</caption>\n",
       "<thead>\n",
       "\t<tr><th></th><th scope=col>Df</th><th scope=col>Sum Sq</th><th scope=col>Mean Sq</th><th scope=col>F value</th><th scope=col>Pr(&gt;F)</th></tr>\n",
       "\t<tr><th></th><th scope=col>&lt;int&gt;</th><th scope=col>&lt;dbl&gt;</th><th scope=col>&lt;dbl&gt;</th><th scope=col>&lt;dbl&gt;</th><th scope=col>&lt;dbl&gt;</th></tr>\n",
       "</thead>\n",
       "<tbody>\n",
       "\t<tr><th scope=row>x</th><td>1</td><td>9.6143224</td><td>9.6143224</td><td>32.83661</td><td>0.01055011</td></tr>\n",
       "\t<tr><th scope=row>Residuals</th><td>3</td><td>0.8783784</td><td>0.2927928</td><td>      NA</td><td>        NA</td></tr>\n",
       "</tbody>\n",
       "</table>\n"
      ],
      "text/latex": [
       "A anova: 2 × 5\n",
       "\\begin{tabular}{r|lllll}\n",
       "  & Df & Sum Sq & Mean Sq & F value & Pr(>F)\\\\\n",
       "  & <int> & <dbl> & <dbl> & <dbl> & <dbl>\\\\\n",
       "\\hline\n",
       "\tx & 1 & 9.6143224 & 9.6143224 & 32.83661 & 0.01055011\\\\\n",
       "\tResiduals & 3 & 0.8783784 & 0.2927928 &       NA &         NA\\\\\n",
       "\\end{tabular}\n"
      ],
      "text/markdown": [
       "\n",
       "A anova: 2 × 5\n",
       "\n",
       "| <!--/--> | Df &lt;int&gt; | Sum Sq &lt;dbl&gt; | Mean Sq &lt;dbl&gt; | F value &lt;dbl&gt; | Pr(&gt;F) &lt;dbl&gt; |\n",
       "|---|---|---|---|---|---|\n",
       "| x | 1 | 9.6143224 | 9.6143224 | 32.83661 | 0.01055011 |\n",
       "| Residuals | 3 | 0.8783784 | 0.2927928 |       NA |         NA |\n",
       "\n"
      ],
      "text/plain": [
       "          Df Sum Sq    Mean Sq   F value  Pr(>F)    \n",
       "x         1  9.6143224 9.6143224 32.83661 0.01055011\n",
       "Residuals 3  0.8783784 0.2927928       NA         NA"
      ]
     },
     "metadata": {},
     "output_type": "display_data"
    }
   ],
   "source": [
    "anova(w.lm)"
   ]
  },
  {
   "cell_type": "code",
   "execution_count": null,
   "id": "371a4834",
   "metadata": {},
   "outputs": [],
   "source": []
  }
 ],
 "metadata": {
  "kernelspec": {
   "display_name": "R",
   "language": "R",
   "name": "ir"
  },
  "language_info": {
   "codemirror_mode": "r",
   "file_extension": ".r",
   "mimetype": "text/x-r-source",
   "name": "R",
   "pygments_lexer": "r",
   "version": "4.0.3"
  }
 },
 "nbformat": 4,
 "nbformat_minor": 5
}
