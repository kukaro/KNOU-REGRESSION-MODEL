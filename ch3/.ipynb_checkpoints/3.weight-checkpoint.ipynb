{
 "cells": [
  {
   "cell_type": "code",
   "execution_count": 1,
   "id": "35bfa32d",
   "metadata": {},
   "outputs": [],
   "source": [
    "x <- c(1, 2, 3, 4, 5)"
   ]
  },
  {
   "cell_type": "code",
   "execution_count": 2,
   "id": "2ecedfa3",
   "metadata": {},
   "outputs": [],
   "source": [
    "y <- c(2, 3, 5, 8, 7)"
   ]
  },
  {
   "cell_type": "code",
   "execution_count": 4,
   "id": "1e2a64b1",
   "metadata": {},
   "outputs": [],
   "source": [
    "w <- 1/x"
   ]
  },
  {
   "cell_type": "code",
   "execution_count": 6,
   "id": "2d90d58e",
   "metadata": {},
   "outputs": [
    {
     "data": {
      "text/plain": [
       "\n",
       "Call:\n",
       "lm(formula = y ~ x, weights = w)\n",
       "\n",
       "Coefficients:\n",
       "(Intercept)            x  \n",
       "     0.3784       1.5405  \n"
      ]
     },
     "metadata": {},
     "output_type": "display_data"
    }
   ],
   "source": [
    "w.lm <- lm(y ~ x, weights=w)\n",
    "w.lm"
   ]
  },
  {
   "cell_type": "code",
   "execution_count": 7,
   "id": "54960f37",
   "metadata": {},
   "outputs": [
    {
     "data": {
      "text/plain": [
       "\n",
       "Call:\n",
       "lm(formula = y ~ x, weights = w)\n",
       "\n",
       "Weighted Residuals:\n",
       "         1          2          3          4          5 \n",
       " 8.108e-02 -3.249e-01 -1.076e-16  7.297e-01 -4.835e-01 \n",
       "\n",
       "Coefficients:\n",
       "            Estimate Std. Error t value Pr(>|t|)  \n",
       "(Intercept)   0.3784     0.6891   0.549   0.6212  \n",
       "x             1.5405     0.2688   5.730   0.0106 *\n",
       "---\n",
       "Signif. codes:  0 ‘***’ 0.001 ‘**’ 0.01 ‘*’ 0.05 ‘.’ 0.1 ‘ ’ 1\n",
       "\n",
       "Residual standard error: 0.5411 on 3 degrees of freedom\n",
       "Multiple R-squared:  0.9163,\tAdjusted R-squared:  0.8884 \n",
       "F-statistic: 32.84 on 1 and 3 DF,  p-value: 0.01055\n"
      ]
     },
     "metadata": {},
     "output_type": "display_data"
    }
   ],
   "source": [
    "summary(w.lm)"
   ]
  },
  {
   "cell_type": "code",
   "execution_count": null,
   "id": "c1685a35",
   "metadata": {},
   "outputs": [],
   "source": []
  }
 ],
 "metadata": {
  "kernelspec": {
   "display_name": "R",
   "language": "R",
   "name": "ir"
  },
  "language_info": {
   "codemirror_mode": "r",
   "file_extension": ".r",
   "mimetype": "text/x-r-source",
   "name": "R",
   "pygments_lexer": "r",
   "version": "4.0.3"
  }
 },
 "nbformat": 4,
 "nbformat_minor": 5
}
